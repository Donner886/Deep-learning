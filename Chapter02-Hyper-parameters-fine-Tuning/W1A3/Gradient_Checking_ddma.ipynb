{
 "cells": [
  {
   "cell_type": "markdown",
   "metadata": {},
   "source": [
    "### Gradient Checking\n",
    "\n",
    "Welcome to the final assignment of this week! In this assignment, you will be implementing gradient checking. \n",
    "\n",
    "By the end of this notebook, you will be able to:\n",
    "Implement gradient checking to verify the accuracy of your backprop implementation. \n",
    "\n"
   ]
  },
  {
   "cell_type": "markdown",
   "metadata": {},
   "source": [
    "### 1 - Packages \n"
   ]
  },
  {
   "cell_type": "code",
   "execution_count": 8,
   "metadata": {},
   "outputs": [],
   "source": [
    "import os\n",
    "os.chdir('/app/Chapter02-Hyper-parameters-fine-Tuning/W1A3')  # change the working directory to the app folder"
   ]
  },
  {
   "cell_type": "code",
   "execution_count": 12,
   "metadata": {},
   "outputs": [
    {
     "name": "stderr",
     "output_type": "stream",
     "text": [
      "2025-10-09 09:51:26.198469: E external/local_xla/xla/stream_executor/cuda/cuda_dnn.cc:9261] Unable to register cuDNN factory: Attempting to register factory for plugin cuDNN when one has already been registered\n",
      "2025-10-09 09:51:26.198520: E external/local_xla/xla/stream_executor/cuda/cuda_fft.cc:607] Unable to register cuFFT factory: Attempting to register factory for plugin cuFFT when one has already been registered\n",
      "2025-10-09 09:51:26.199731: E external/local_xla/xla/stream_executor/cuda/cuda_blas.cc:1515] Unable to register cuBLAS factory: Attempting to register factory for plugin cuBLAS when one has already been registered\n",
      "2025-10-09 09:51:26.207728: I tensorflow/core/platform/cpu_feature_guard.cc:182] This TensorFlow binary is optimized to use available CPU instructions in performance-critical operations.\n",
      "To enable the following instructions: AVX2 AVX512F FMA, in other operations, rebuild TensorFlow with the appropriate compiler flags.\n",
      "2025-10-09 09:51:27.291479: W tensorflow/compiler/tf2tensorrt/utils/py_utils.cc:38] TF-TRT Warning: Could not find TensorRT\n"
     ]
    },
    {
     "name": "stdout",
     "output_type": "stream",
     "text": [
      "The autoreload extension is already loaded. To reload it, use:\n",
      "  %reload_ext autoreload\n"
     ]
    }
   ],
   "source": [
    "import numpy as np\n",
    "from testCases import *\n",
    "from public_tests import *\n",
    "from gc_utils import sigmoid, relu, dictionary_to_vector, vector_to_dictionary, gradients_to_vector\n",
    "\n",
    "%load_ext autoreload\n",
    "%autoreload 2\n"
   ]
  },
  {
   "cell_type": "markdown",
   "metadata": {},
   "source": [
    "#### 2 - Problem Statement\n",
    "\n",
    "You are part of a team working on make mobile payments avaiable globally, and are asked to build a deep learning model to detect fraud -- whenever someone makes a payment, you want to see if the payment might be fraudulent, such as if the user's account has been taken over by a hacker.\n",
    "\n",
    "You already know that backpropagation is quite challenging to implement, and sometimes has bugs. Because this is a mission-critial application, your company's CEO wants to be really certain that your implementation of backpropagation is correct. Your CEO says, \"give me proof that your backpropagation is actually working\" To give this reassurance, you are going to use. \"Gradient checking\"/\n",
    "\n",
    "Let's do it. "
   ]
  },
  {
   "cell_type": "markdown",
   "metadata": {},
   "source": [
    "### 3 - How does Gradient Checking work?\n",
    "\n",
    "Backpropagation computes the gradients $\\frac{\\partial J}{\\partial \\theta}$, where $\\theta$ denotes the parameters of the model. $J$ is computed using forward propagation and your loss function. \n",
    "\n",
    "Because forward propagation is relatively easy to implement. you are comfident you got that right, and you're almost 100% sure that you're computing the cost J correctly.  Thus, you can use your code for computng J to verify the code for computing $\\frac{\\partial J}{\\partial \\theta}$. \n",
    "\n",
    "\n",
    "Let's look back at the definition of a derivative (or gradient): \n",
    "$$ \\frac{\\partial J}{\\partial \\theta} = \\lim_{\\varepsilon \\to 0} \\frac{J(\\theta + \\varepsilon) - J(\\theta - \\varepsilon)}{2 \\varepsilon} \\tag{1}$$\n",
    "\n",
    "\n",
    "If you're not familiar with the \"$\\displaystyle \\lim_{\\varepsilon \\to 0}$\" notation, it's just a way of saying \"when $\\varepsilon$ is really, really small.\"\n",
    "\n",
    "$\\frac{\\partial J}{\\partial \\theta}$ is what you want to make sure you're computing correctly.\n",
    "You can compute $J(\\theta + \\varepsilon)$ and $J(\\theta - \\varepsilon)$ (in the case that $\\theta$ is a real number), since you're confident your implementation for $J$ is correct.\n",
    "Let's use equation (1) and a small value for $\\varepsilon$ to convince your CEO that your code for computing $\\frac{\\partial J}{\\partial \\theta}$ is correct!"
   ]
  },
  {
   "cell_type": "markdown",
   "metadata": {},
   "source": [
    "<a name='4'></a>\n",
    "## 4 - 1-Dimensional Gradient Checking\n",
    "\n",
    "Consider a 1D linear function $J(\\theta) = \\theta x$. The model contains only a single real-valued parameter $\\theta$, and takes $x$ as input.\n",
    "\n",
    "You will implement code to compute $J(.)$ and its derivative $\\frac{\\partial J}{\\partial \\theta}$. You will then use gradient checking to make sure your derivative computation for $J$ is correct. \n",
    "\n",
    "<img src=\"images/1Dgrad_kiank.png\" style=\"width:600px;height:250px;\">\n",
    "<caption><center><font color='purple'><b>Figure 1</b>:1D linear model </font></center></caption>\n",
    "\n",
    "The diagram above shows the key computation steps: First start with $x$, then evaluate the function $J(x)$ (\"forward propagation\"). Then compute the derivative $\\frac{\\partial J}{\\partial \\theta}$ (\"backward propagation\"). \n",
    "\n",
    "<a name='ex-1'></a>\n",
    "### Exercise 1 - forward_propagation\n",
    "\n",
    "Implement `forward propagation`. For this simple function compute $J(.)$"
   ]
  },
  {
   "cell_type": "code",
   "execution_count": 13,
   "metadata": {},
   "outputs": [],
   "source": [
    "## GRADE FUNCTION: forward_propagation\n",
    "def forward_propagation(x, theta):\n",
    "    \"\"\"\n",
    "    Implement the linear forward propagation (compute J) presented in Figure1 \n",
    "    \n",
    "    Arguments:\n",
    "    x -- a real-value input\n",
    "    theta -- our paramter, a real number as well\n",
    "    \n",
    "    Returns:\n",
    "    J -- the value of J, computed using the formula in Figure 1 J(theta) = theta * x \n",
    "\n",
    "    \"\"\"\n",
    "    ## YOUR CODE STARTS HERE\n",
    "    J = theta * x\n",
    "    \n",
    "    ## YOUR CODE ENDS HERE\n",
    "    return J\n",
    "\n",
    "\n",
    "    "
   ]
  },
  {
   "cell_type": "code",
   "execution_count": 14,
   "metadata": {},
   "outputs": [
    {
     "name": "stdout",
     "output_type": "stream",
     "text": [
      "J = 8\n",
      "\u001b[92m All tests passed.\n"
     ]
    }
   ],
   "source": [
    "x, theta = 2, 4\n",
    "J = forward_propagation(x, theta)\n",
    "print (\"J = \" + str(J))\n",
    "forward_propagation_test(forward_propagation)"
   ]
  },
  {
   "cell_type": "markdown",
   "metadata": {},
   "source": [
    "### Exercise 2: backward_propagation\n",
    "Now, implement the backword propagation step (derivative computation) of Figure 1. That is, compute the derivative $\\frac{\\partial J}{\\partial \\theta}$ = $x$."
   ]
  },
  {
   "cell_type": "code",
   "execution_count": 15,
   "metadata": {},
   "outputs": [],
   "source": [
    "## GRADE FUNCTION: backward_propagation\n",
    "def backward_propagation(x, theta):\n",
    "    \"\"\"\n",
    "    Implement the linear backward propagation (compute dtheta) presented in Figure 1 \n",
    "    \n",
    "    Arguments:\n",
    "    x -- a real-value input\n",
    "    theta -- our paramter, a real number as well\n",
    "    \n",
    "    Returns:\n",
    "    dtheta -- the gradient of the cost with respect to theta\n",
    "\n",
    "    \"\"\"\n",
    "    ## YOUR CODE STARTS HERE\n",
    "    dtheta = x\n",
    "    \n",
    "    ## YOUR CODE ENDS HERE\n",
    "    return dtheta"
   ]
  },
  {
   "cell_type": "code",
   "execution_count": 16,
   "metadata": {},
   "outputs": [
    {
     "name": "stdout",
     "output_type": "stream",
     "text": [
      "dtheta = 3\n",
      "\u001b[92m All tests passed.\n"
     ]
    }
   ],
   "source": [
    "x, theta = 3, 4\n",
    "dtheta = backward_propagation(x, theta)\n",
    "print (\"dtheta = \" + str(dtheta))\n",
    "backward_propagation_test(backward_propagation)"
   ]
  },
  {
   "cell_type": "code",
   "execution_count": null,
   "metadata": {},
   "outputs": [],
   "source": []
  },
  {
   "cell_type": "markdown",
   "metadata": {},
   "source": [
    "### Exercise 3 - gradient_check\n",
    "To show that the backward propagation step is correct, you will now implement gradient checking.\n",
    "\n",
    "**Instructions**: \n",
    "- First compute \"grandapprox\" using the formula above (1)\n",
    "    1. $\\theta^{+} = \\theta + \\varepsilon$\n",
    "    2. $\\theta^{-} = \\theta - \\varepsilon$\n",
    "    3. $J^{+} = J(\\theta^{+})$\n",
    "    4. $J^{-} = J(\\theta^{-})$\n",
    "    5. $gradapprox = \\frac{J^{+} - J^{-}}{2  \\varepsilon}$\n",
    "- Then compute the gradient using backward propagation (backprop), and store the result in variable `grad`\n",
    "- Finally, compute the difference betwee n `gradapprox` and `grad` using the formula:\n",
    "$$ difference = \\frac {\\mid\\mid grad - gradapprox \\mid\\mid_2}{\\mid\\mid grad \\mid\\mid_2 + \\mid\\mid gradapprox \\mid\\mid_2} \\tag{2}$$\n",
    "\n",
    "You will need 3 step to compute this formula:\n",
    "- 1. compute the numerator: `numerator = np.linalg.norm(grad - gradapprox)`\n",
    "- 2. compute the denominator: `denominator = np.linalg.norm(grad) + np.linalg.norm(gradapprox)`\n",
    "- 3. compute the difference: `difference = numerator / denominator` \n",
    "\n",
    "if this difference is small (say less than $10^{-7}$), you can be quite confident that you have computed the gradient correctly.Otherwise, there is probably a mistake in your code for backpropagation.\n"
   ]
  },
  {
   "cell_type": "code",
   "execution_count": 17,
   "metadata": {},
   "outputs": [],
   "source": [
    "def gradient_check(x, theta, epsilon = 1e-7, print_msg =False):\n",
    "    \"\"\"\n",
    "    Implement the gradient checking presented in Figure 2\n",
    "    \n",
    "    Arguments:\n",
    "    x -- a real-value input\n",
    "    theta -- our parameter, a real number as well\n",
    "    epsilon -- tiny shift to the input to compute approximated gradient with formula(1)\n",
    "    \n",
    "    Returns:\n",
    "    difference -- difference (2) between the approximated gradient and the backward propagation gradient\n",
    "\n",
    "    \"\"\"\n",
    "    \n",
    "    # 1. Compute gradapprox\n",
    "    ## YOUR CODE STARTS HERE\n",
    "    thetaplus = theta + epsilon                               # Step 1\n",
    "    thetaminus = theta - epsilon                              # Step 2\n",
    "    J_plus = forward_propagation(x, thetaplus)               # Step 3\n",
    "    J_minus = forward_propagation(x, thetaminus)             # Step 4\n",
    "    gradapprox = (J_plus - J_minus) / (2 * epsilon)          # Step 5\n",
    "    \n",
    "    ## YOUR CODE ENDS HERE\n",
    "    \n",
    "    # 2. Compute grad\n",
    "    grad = backward_propagation(x, theta)                    # Step 6\n",
    "    \n",
    "    # 3. Compute difference (≈ 0 if backward propagation is correct)\n",
    "    ## YOUR CODE STARTS HERE\n",
    "    numerator = np.linalg.norm(grad - gradapprox)            # Step 1'\n",
    "    denominator = np.linalg.norm(grad) + np.linalg.norm(gradapprox)   # Step 2'\n",
    "    difference = numerator / denominator                      # Step 3'\n",
    "    \n",
    "    ## YOUR CODE ENDS HERE\n",
    "    \n",
    "    if print_msg:\n",
    "        if difference > 1e-7:\n",
    "            print (\"\\033[93m\" + \"There is a mistake in the backward propagation! difference = \" + str(difference) + \"\\033[0m\")\n",
    "        else:\n",
    "            print (\"\\033[92m\" + \"Your backward propagation works perfectly fine! difference = \" + str(difference) + \"\\033[0m\")\n",
    "    \n",
    "    return difference"
   ]
  },
  {
   "cell_type": "code",
   "execution_count": 18,
   "metadata": {},
   "outputs": [
    {
     "name": "stdout",
     "output_type": "stream",
     "text": [
      "\u001b[92mYour backward propagation works perfectly fine! difference = 7.814075313343006e-11\u001b[0m\n",
      "\u001b[92m All tests passed.\n"
     ]
    }
   ],
   "source": [
    "x, theta = 3, 4\n",
    "difference = gradient_check(x, theta, print_msg=True)\n",
    "gradient_check_test(gradient_check, difference)"
   ]
  },
  {
   "cell_type": "markdown",
   "metadata": {},
   "source": [
    "Congrats, the difference is smaller than the $2*10^{-7}$ threshold!  So you can have high confidence that you've correctly computed the gradient in backward_propagation().\n",
    "\n",
    "Now. in the more general case, you cost function J has come more than a single 1D input. When you are training a neural network, $\\theta$ consists of multiple matrices W and vectors b. It is important to know how to do a gradient check with higher-dimensional inputss. Let's see how to do this.\n",
    "\n"
   ]
  },
  {
   "cell_type": "markdown",
   "metadata": {},
   "source": [
    "### 5 - N-Dimensional Gradient Checking\n",
    "The following figure describes the forward and backward propagation of your fraud detetion model.\n",
    "\n",
    "<img src=\"images/NDgrad_kiank.png\" style=\"width:600px;height:400px;\">\n",
    "<caption><center><font color='purple'><b>Figure 2</b>: Deep neural network. LINEAR -> RELU -> LINEAR -> RELU -> LINEAR -> SIGMOID</font></center></caption>\n",
    "\n",
    "Let's look at your implementation of forward and backward propagation for this model.\n",
    "Below is the code provided for `forward_propagation_n` and `backward_propagation_n`. Note here that n in the nsmae implies it is for n-deimensional input."
   ]
  },
  {
   "cell_type": "code",
   "execution_count": 33,
   "metadata": {},
   "outputs": [],
   "source": [
    "## GRADE FUNCTION: forward_propagation_n\n",
    "\n",
    "def forward_propagation_n(X, Y, parameters):\n",
    "    \"\"\"\n",
    "    Implements the forward propagation (and computes the cost) presented in Figure 2.\n",
    "    \n",
    "    Arguments:\n",
    "    X -- training set for m examples, of shape (input size, number of examples)\n",
    "    Y -- labels for m examples, of shape (output size, number of examples)\n",
    "    parameters -- python dictionary containing your parameters \"W1\", \"b1\", \"W2\", \"b2\", \"W3\", \"b3\":\n",
    "                    W1 -- weight matrix of shape (5, 4)\n",
    "                    b1 -- bias vector of shape (5, 1)\n",
    "                    W2 -- weight matrix of shape (3, 5)\n",
    "                    b2 -- bias vector of shape (3, 1)\n",
    "                    W3 -- weight matrix of shape (1, 3)\n",
    "                    b3 -- bias vector of shape (1, 1)\n",
    "    \n",
    "    Returns:\n",
    "    cost -- the cost function (logistic costs for m examples)\n",
    "    cache -- a tuple with the intermediate values  (\"Z1\", \"A1\", \"W1\", \"b1\", \"Z2\", \"A2\", \"W2\", \"b2\", \"Z3\", \"A3\", \"W3\", \"b3\")\n",
    "\n",
    "    \"\"\"\n",
    "    m = X.shape[1]\n",
    "    W1 = parameters[\"W1\"]\n",
    "    b1 = parameters[\"b1\"]\n",
    "    W2 = parameters[\"W2\"]\n",
    "    b2 = parameters[\"b2\"]\n",
    "    W3 = parameters[\"W3\"]\n",
    "    b3 = parameters[\"b3\"]\n",
    "    \n",
    "    # LINEAR -> RELU -> LINEAR -> RELU -> LINEAR -> SIGMOID\n",
    "    Z1 = np.dot(W1, X) + b1\n",
    "    A1 = relu(Z1)\n",
    "    Z2 = np.dot(W2, A1) + b2\n",
    "    A2 = relu(Z2)\n",
    "    Z3 = np.dot(W3, A2) + b3\n",
    "    A3 = sigmoid(Z3)\n",
    "    \n",
    "    ## cost\n",
    "    logprobs = np.multiply(-np.log(A3),Y) + np.multiply(-np.log(1 - A3), 1 - Y)\n",
    "    cost = 1./m * np.sum(logprobs)\n",
    "    \n",
    "    cache = (Z1, A1, W1, b1, Z2, A2, W2, b2, Z3, A3, W3, b3)\n",
    "    \n",
    "    return cost, cache\n",
    "\n",
    "    "
   ]
  },
  {
   "cell_type": "code",
   "execution_count": 65,
   "metadata": {},
   "outputs": [],
   "source": [
    "## Now, let's loot at the code for backward propagation.  \n",
    "\n",
    "## Below is the code provided for  `backward_propagation_n`. Note that the n in the name implies it is for n-dimensional inputs.\n",
    "\n",
    "def backward_propagation_n(X, Y, cache):\n",
    "    \"\"\"\n",
    "    Implement the backward propagation presented in Figure 2.\n",
    "    \n",
    "    Arguments:\n",
    "    X -- training set for m examples, of shape (input size, number of examples)\n",
    "    Y -- labels for m examples, of shape (output size, number of examples)\n",
    "    cache -- a tuple with the intermediate values (Z1, A1, W1, b1, Z2, A2, W2, b2, Z3, A3, W3, b3)\n",
    "    \n",
    "    Returns:\n",
    "    gradients -- A dictionary with the gradients with respect to each parameter, activation and pre-activation variables\n",
    "                 gradients[\"dZ3\"] = ...\n",
    "                 gradients[\"dW3\"] = ...\n",
    "                 gradients[\"db3\"] = ...\n",
    "                 gradients[\"dA2\"] = ...\n",
    "                 gradients[\"dZ2\"] = ...\n",
    "                 gradients[\"dW2\"] = ...\n",
    "                 gradients[\"db2\"] = ...\n",
    "                 gradients[\"dA1\"] = ...\n",
    "                 gradients[\"dZ1\"] = ...\n",
    "                 gradients[\"dW1\"] = ...\n",
    "                 gradients[\"db1\"] = ...\n",
    "\n",
    "    \"\"\"\n",
    "    m = X.shape[1]\n",
    "    (Z1, A1, W1, b1, Z2, A2, W2, b2, Z3, A3, W3, b3) = cache\n",
    "    \n",
    "    # SIGMOID -> LINEAR\n",
    "    dZ3 = A3 - Y\n",
    "    dW3 = 1./m * np.dot(dZ3, A2.T)\n",
    "    db3 = 1./m * np.sum(dZ3, axis=1, keepdims=True)\n",
    "    dA2 = np.dot(W3.T, dZ3)\n",
    "    \n",
    "    # RELU -> LINEAR\n",
    "    dZ2 = np.multiply(dA2, np.int64(A2 > 0 )) # just converting dz2 to a correct object.\n",
    "    dW2 = 1./m * np.dot(dZ2, A1.T) \n",
    "    db2 = 1./m * np.sum(dZ2, axis=1, keepdims=True)\n",
    "    dA1 = np.dot(W2.T, dZ2)\n",
    "    \n",
    "    # RELU -> LINEAR\n",
    "    dZ1 = np.multiply(dA1, np.int64(A1 > 0)) # just converting dz1 to a correct object.\n",
    "    dW1 = 1./m * np.dot(dZ1, X.T)\n",
    "    db1 = 1./m * np.sum(dZ1, axis=1, keepdims=True) \n",
    "    \n",
    "    gradients = {\"dZ3\": dZ3, \"dW3\": dW3, \"db3\": db3,\n",
    "                 \"dA2\": dA2, \"dZ2\": dZ2, \"dW2\": dW2, \"db2\": db2, \n",
    "                    \"dA1\": dA1, \"dZ1\": dZ1, \"dW1\": dW1, \"db1\": db1}\n",
    "    \n",
    "    return gradients"
   ]
  },
  {
   "cell_type": "markdown",
   "metadata": {},
   "source": [
    "If you had just implemented these functions, you might not have high confidence whether they work correctly.  So let's implement gradient checking to verify that they are correct. "
   ]
  },
  {
   "cell_type": "markdown",
   "metadata": {},
   "source": [
    "**How does gradient checking work?**.\n",
    "\n",
    "As in Section 3 and 4, you want to compare \"gradapprox\" to the gradient computed by backpropagation. The formula is still:\n",
    "\n",
    "$$ \\frac{\\partial J}{\\partial \\theta} = \\lim_{\\varepsilon \\to 0} \\frac{J(\\theta + \\varepsilon) - J(\\theta - \\varepsilon)}{2 \\varepsilon} \\tag{1}$$\n",
    "\n",
    "However, $\\theta$ is not a scalar anymore. It is a dictionary called \"parameters\". The  function \"`dictionary_to_vector()`\" has been implemented for you. It converts the \"parameters\" dictionary into a vector called \"values\", obtained by reshaping all parameters (W1, b1, W2, b2, W3, b3) into vectors and concatenating them.\n",
    "\n",
    "The inverse function is \"`vector_to_dictionary`\" which outputs back the \"parameters\" dictionary.\n",
    "\n",
    "<img src=\"images/dictionary_to_vector.png\" style=\"width:600px;height:400px;\">\n",
    "<caption><center><font color='purple'><b>Figure 2</b>: dictionary_to_vector() and vector_to_dictionary(). You will need these functions in gradient_check_n()</font></center></caption>\n",
    "\n",
    "The \"gradients\" dictionary has also been converted into a vector \"grad\" using gradients_to_vector(), so you don't need to worry about that.\n",
    "\n",
    "Now, for every single parameter in your vector, you will apply the same procedure as for the gradient_check exercise. You will store each gradient approximation in a vector `gradapprox`. If the check goes as expected, each value in this approximation must match the real gradient values stored in the `grad` vector. \n",
    "\n",
    "Note that `grad` is calculated using the function `gradients_to_vector`, which uses the gradients outputs of the `backward_propagation_n` function."
   ]
  },
  {
   "cell_type": "markdown",
   "metadata": {},
   "source": [
    "### Exercise 4 - gradient_check_n\n",
    "\n",
    "Implement the function below.\n",
    "\n",
    "**Instructions**: Here is pseudo-code that will help you implement the gradient check.\n",
    "\n",
    "For each i in num_parameters:\n",
    "- To compute `J_plus[i]`:\n",
    "    1. Set $\\theta^{+}$ to `np.copy(parameters_values)`\n",
    "    2. Set $\\theta^{+}_i$ to $\\theta^{+}_i + \\varepsilon$\n",
    "    3. Calculate $J^{+}_i$ using to `forward_propagation_n(x, y, vector_to_dictionary(`$\\theta^{+}$ `))`.     \n",
    "- To compute `J_minus[i]`: do the same thing with $\\theta^{-}$\n",
    "- Compute $gradapprox[i] = \\frac{J^{+}_i - J^{-}_i}{2 \\varepsilon}$\n",
    "\n",
    "Thus, you get a vector gradapprox, where gradapprox[i] is an approximation of the gradient with respect to `parameter_values[i]`. You can now compare this gradapprox vector to the gradients vector from backpropagation. Just like for the 1D case (Steps 1', 2', 3'), compute: \n",
    "$$ difference = \\frac {\\| grad - gradapprox \\|_2}{\\| grad \\|_2 + \\| gradapprox \\|_2 } \\tag{3}$$\n",
    "\n",
    "**Note**: Use `np.linalg.norm` to get the norms"
   ]
  },
  {
   "cell_type": "code",
   "execution_count": 70,
   "metadata": {},
   "outputs": [],
   "source": [
    "## GRADE FUNCTION: gradient_check_n\n",
    "\n",
    "def gradient_check_n(parameters, gradients, X, Y, epsilon = 1e-7, print_msg = False):\n",
    "    \"\"\"\n",
    "    Implement the gradient checking presented in Figure 2.\n",
    "    \n",
    "    Arguments:\n",
    "    X -- training set for m examples, of shape (input size, number of examples)\n",
    "    Y -- labels for m examples, of shape (output size, number of examples)\n",
    "    parameters -- python dictionary containing your parameters \"W1\", \"b1\", \"W2\", \"b2\", \"W3\", \"b3\":\n",
    "                    W1 -- weight matrix of shape (5, 4)\n",
    "                    b1 -- bias vector of shape (5, 1)\n",
    "                    W2 -- weight matrix of shape (3, 5)\n",
    "                    b2 -- bias vector of shape (3, 1)\n",
    "                    W3 -- weight matrix of shape (1, 3)\n",
    "                    b3 -- bias vector of shape (1, 1)\n",
    "    gradients -- output of backward_propagation_n, contains gradients of the cost with respect to the parameters. \n",
    "    epsilon -- tiny shift to the input to compute approximated gradient with formula(1)\n",
    "    \n",
    "    Returns:\n",
    "    difference -- difference (2) between the approximated gradient and the backward propagation gradient\n",
    "\n",
    "    \"\"\"\n",
    "    \n",
    "    # Set-up variables\n",
    "    parameters_values, _ = dictionary_to_vector(parameters) # theta \n",
    "    grad = gradients_to_vector(gradients)                  # dtheta\n",
    "    num_parameters = parameters_values.shape[0]\n",
    "    J_plus = np.zeros((num_parameters, 1))\n",
    "    J_minus = np.zeros((num_parameters, 1))\n",
    "    gradapprox = np.zeros((num_parameters, 1))\n",
    "    \n",
    "    # Compute gradapprox\n",
    "    for i in range(num_parameters):\n",
    "        \n",
    "        # Compute J_plus[i]. Inputs: \"parameters_values, epsilon\". Output = \"J_plus[i]\".\n",
    "        ## YOUR CODE STARTS HERE\n",
    "        thetaplus = np.copy(parameters_values)              # Step 1\n",
    "        thetaplus[i][0] = thetaplus[i][0] + epsilon        # Step 2\n",
    "        J_plus[i], _ = forward_propagation_n(X, Y, vector_to_dictionary(thetaplus)) # Step 3\n",
    "        \n",
    "        ## YOUR CODE ENDS HERE\n",
    "        \n",
    "        # Compute J_minus[i]. Inputs: \"parameters_values, epsilon\". Output = \"J_minus[i]\".\n",
    "        ## YOUR CODE STARTS HERE\n",
    "        thetaminus = np.copy(parameters_values)             # Step 1'\n",
    "        thetaminus[i][0] = thetaminus[i][0] - epsilon      # Step 2'\n",
    "        J_minus[i], _ = forward_propagation_n(X, Y, vector_to_dictionary(thetaminus)) # Step 3'\n",
    "        ## YOUR CODE ENDS HERE\n",
    "        # Compute gradapprox[i]\n",
    "        ## YOUR CODE STARTS HERE\n",
    "        gradapprox[i] = (J_plus[i] - J_minus[i]) / (2 * epsilon)  # Step 4'\n",
    "        ## YOUR CODE ENDS HERE\n",
    "\n",
    "\n",
    "\n",
    "    ## compare gradapprox to backward propagation gradients by computing difference.\n",
    "    ## YOUR CODE STARTS HERE\n",
    "    numerator = np.linalg.norm(grad - gradapprox)            # Step 1'\n",
    "    denominator = np.linalg.norm(grad) + np.linalg.norm(gradapprox)   # Step 2'\n",
    "    difference = numerator / denominator                      # Step 3'\n",
    "    ## YOUR CODE ENDS HERE  \n",
    "    \n",
    "    if print_msg:\n",
    "        if difference > 2e-7:\n",
    "            print (\"\\033[93m\" + \"There is a mistake in the backward propagation! difference = \" + str(difference) + \"\\033[0m\")\n",
    "        else:\n",
    "            print (\"\\033[92m\" + \"Your backward propagation works perfectly fine! difference = \" + str(difference) + \"\\033[0m\")  \n",
    "            \n",
    "    return difference "
   ]
  },
  {
   "cell_type": "code",
   "execution_count": 71,
   "metadata": {},
   "outputs": [
    {
     "name": "stdout",
     "output_type": "stream",
     "text": [
      "\u001b[92mYour backward propagation works perfectly fine! difference = 1.186249751058462e-07\u001b[0m\n"
     ]
    }
   ],
   "source": [
    "X, Y, parameters = gradient_check_n_test_case()\n",
    "\n",
    "cost, cache = forward_propagation_n(X, Y, parameters)\n",
    "gradients = backward_propagation_n(X, Y, cache)\n",
    "difference = gradient_check_n(parameters, gradients, X, Y, 1e-7, True)\n",
    "\n",
    "expected_values = [0.2850931567761623, 1.1890913024229996e-07]\n",
    "assert not(type(difference) == np.ndarray), \"You are not using np.linalg.norm for numerator or denominator\"\n",
    "assert np.any(np.isclose(difference, expected_values)), \"Wrong value. It is not one of the expected values\""
   ]
  },
  {
   "cell_type": "markdown",
   "metadata": {},
   "source": [
    "<font color='blue'>\n",
    "\n",
    "\n",
    "**What you should remember from this notebook**:\n",
    "- Gradient checking verifies closeness between the gradients from backpropagation and the numerical approximation of the gradient (computed using forward propagation).\n",
    "- Gradient checking is slow, so you don't want to run it in every iteration of training. You would usually run it only to make sure your code is correct, then turn it off and use backprop for the actual learning process. "
   ]
  },
  {
   "cell_type": "code",
   "execution_count": null,
   "metadata": {},
   "outputs": [],
   "source": []
  }
 ],
 "metadata": {
  "coursera": {
   "course_slug": "deep-neural-network",
   "graded_item_id": "n6NBD",
   "launcher_item_id": "yfOsE"
  },
  "kernelspec": {
   "display_name": "Python 3 (ipykernel)",
   "language": "python",
   "name": "python3"
  },
  "language_info": {
   "codemirror_mode": {
    "name": "ipython",
    "version": 3
   },
   "file_extension": ".py",
   "mimetype": "text/x-python",
   "name": "python",
   "nbconvert_exporter": "python",
   "pygments_lexer": "ipython3",
   "version": "3.11.13"
  }
 },
 "nbformat": 4,
 "nbformat_minor": 1
}
