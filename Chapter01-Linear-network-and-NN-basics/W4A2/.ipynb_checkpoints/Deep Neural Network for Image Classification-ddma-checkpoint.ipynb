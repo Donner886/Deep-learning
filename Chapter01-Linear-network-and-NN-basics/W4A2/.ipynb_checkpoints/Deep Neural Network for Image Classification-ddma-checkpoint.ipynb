{
 "cells": [
  {
   "cell_type": "markdown",
   "id": "a82f1971-0712-444a-9bae-e6e2f55490d4",
   "metadata": {},
   "source": [
    "## Deep Neural Network for Image Classification: Application\n",
    "\n",
    "By the time you complete this notebook, you will have finished the last programming assginment of Week 4, and also the last programming assignment of Course 1! Go you!\n",
    "\n",
    "To build your cat/non-a-cat classifier,  you'll the the functions from the previous assignment to build a deep network. Hopefully, you'll see an improvement in accuracy over your previous logistic regression implemention.  \n",
    "\n",
    "After this assigment you will be able to:\n",
    "- Build and train a deep L-layer neural network, and apply it to supervised learning.  \n",
    "\n"
   ]
  },
  {
   "cell_type": "markdown",
   "id": "c783eff9-3b80-4633-a5ed-1be9ee25ec87",
   "metadata": {},
   "source": [
    "## 1-Packages\n",
    "\n",
    "Begin by import all the packages you'll need during this assignment.  \n",
    "- numpy is the fundamental package for scientific computing with python\n",
    "- matplotlib is a library to plot graphs in python \n",
    "- h5py is a common package to interact with a dataset that is stored on an H5 file\n",
    "- PIL and scipy are used here to test your model with your own picture at the end\n",
    "- dnn_app_utils provides the functions implemented in the previous assignment\n",
    "- np.random.seed(1) is used to keep all the random function calls consistent. "
   ]
  }
 ],
 "metadata": {
  "kernelspec": {
   "display_name": "Python 3 (ipykernel)",
   "language": "python",
   "name": "python3"
  },
  "language_info": {
   "codemirror_mode": {
    "name": "ipython",
    "version": 3
   },
   "file_extension": ".py",
   "mimetype": "text/x-python",
   "name": "python",
   "nbconvert_exporter": "python",
   "pygments_lexer": "ipython3",
   "version": "3.11.4"
  }
 },
 "nbformat": 4,
 "nbformat_minor": 5
}
