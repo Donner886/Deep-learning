{
 "cells": [
  {
   "cell_type": "code",
   "execution_count": 2,
   "id": "e7964a82-edf7-40c9-8d1f-57026663eedb",
   "metadata": {},
   "outputs": [],
   "source": [
    "import numpy as np"
   ]
  },
  {
   "cell_type": "code",
   "execution_count": 3,
   "id": "0acb2ba8",
   "metadata": {},
   "outputs": [],
   "source": [
    "def datatype_check(expected_output, target_output, error):\n",
    "    \"\"\"\n",
    "    This function checks if the data types of the expected output and target output match. \n",
    "    If they do not match, it raises a TypeError with the provided error message.\n",
    "    So the targeted_output should be specified in advance i think\n",
    "    \n",
    "    Args:\n",
    "        expected_output (_type_): _description_\n",
    "        target_output (_type_): _description_\n",
    "        error (_type_): _description_\n",
    "    \"\"\"\n",
    "    success = 0\n",
    "    if isinstance(target_output, dict): \n",
    "        for key in expected_output.keys(): ## check data type for each key in expected_output\n",
    "            try:\n",
    "                success += datatype_check(expected_output[key], \n",
    "                                         target_output[key], error)\n",
    "            except:\n",
    "                print(\"Error: {} in variable {}. Got {} but expected type {}\".format(error,\n",
    "                                                                          key, type(target_output[key]), type(expected_output[key])))\n",
    "        if success == len(target_output.keys()):\n",
    "            return 1\n",
    "        else:\n",
    "            return 0\n",
    "    elif isinstance(target_output, tuple) or isinstance(target_output, list):\n",
    "        for i in range(len(expected_output)):\n",
    "            try:\n",
    "                success += datatype_check(expected_output[i], \n",
    "                                         target_output[i], error)\n",
    "            except:\n",
    "                print(\"Error: {} in variable index {}. Got {} but expected type {}\".format(error,\n",
    "                                                                          i, type(target_output[i]), type(expected_output[i])))\n",
    "        if success == len(target_output):\n",
    "            return 1\n",
    "        else:\n",
    "            return 0\n",
    "    else:\n",
    "        assert isinstance(expected_output, type(target_output))\n",
    "        return 1\n",
    "    \n",
    "    "
   ]
  },
  {
   "cell_type": "code",
   "execution_count": 7,
   "id": "451acbf2",
   "metadata": {},
   "outputs": [],
   "source": [
    "number_of_layers = 3\n",
    "caches = [1,2,3,4,5,6]\n",
    "L = len(caches) // number_of_layers # the number of layers"
   ]
  },
  {
   "cell_type": "code",
   "execution_count": 14,
   "id": "2c66b075",
   "metadata": {},
   "outputs": [
    {
     "name": "stdout",
     "output_type": "stream",
     "text": [
      "5\n",
      "4\n",
      "3\n",
      "2\n",
      "1\n"
     ]
    }
   ],
   "source": [
    "for i in range(5,0,-1 ):\n",
    "    print(i)"
   ]
  },
  {
   "cell_type": "code",
   "execution_count": null,
   "id": "70428d6a",
   "metadata": {},
   "outputs": [],
   "source": []
  }
 ],
 "metadata": {
  "kernelspec": {
   "display_name": "Python 3 (ipykernel)",
   "language": "python",
   "name": "python3"
  },
  "language_info": {
   "codemirror_mode": {
    "name": "ipython",
    "version": 3
   },
   "file_extension": ".py",
   "mimetype": "text/x-python",
   "name": "python",
   "nbconvert_exporter": "python",
   "pygments_lexer": "ipython3",
   "version": "3.11.4"
  }
 },
 "nbformat": 4,
 "nbformat_minor": 5
}
