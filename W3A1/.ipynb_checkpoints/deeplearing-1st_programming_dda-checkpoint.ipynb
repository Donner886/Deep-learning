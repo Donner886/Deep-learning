{
 "cells": [
  {
   "cell_type": "markdown",
   "id": "9a34f366-97c3-4013-861c-6c2bc1cafdd7",
   "metadata": {
    "tags": []
   },
   "source": [
    "## Planar data classification with one hidden layer"
   ]
  },
  {
   "cell_type": "markdown",
   "id": "306e358d-7ef6-4201-ac6b-d279ca03259f",
   "metadata": {},
   "source": [
    "Welcome to your week 3 programming assignement! it's time to build your first neutral network, which will have one hidden layer. Now, you'll notice a big difference between this model and the one you implemented previously using logistic regression. \n",
    "\n"
   ]
  },
  {
   "cell_type": "code",
   "execution_count": null,
   "id": "e238b755-3f6e-4b6b-9f70-a577303fd6e9",
   "metadata": {},
   "outputs": [],
   "source": []
  }
 ],
 "metadata": {
  "kernelspec": {
   "display_name": "Python 3 (ipykernel)",
   "language": "python",
   "name": "python3"
  },
  "language_info": {
   "codemirror_mode": {
    "name": "ipython",
    "version": 3
   },
   "file_extension": ".py",
   "mimetype": "text/x-python",
   "name": "python",
   "nbconvert_exporter": "python",
   "pygments_lexer": "ipython3",
   "version": "3.11.4"
  }
 },
 "nbformat": 4,
 "nbformat_minor": 5
}
