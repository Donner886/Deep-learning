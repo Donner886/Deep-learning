{
 "cells": [
  {
   "cell_type": "markdown",
   "id": "b6a44181-0c61-448b-8cab-8dc97637fd92",
   "metadata": {},
   "source": [
    "## Building your Deep Neural Network: step by step\n",
    "\n",
    "Welcome to your week4 assignemnt(part 1 of 2)! Previously you trained 2-layer Nearual Network with a single hidden layer. This week, you will build a deep neural network with as many layers as you want. \n",
    "- in this notebook, you'll implement all the functions required to build a deep neural nework.\n",
    "- For the next assignment, you'll use these functions to build a deep neural network for image classification. \n",
    "\n",
    "#### By the end of this assignement, you'll be able to: \n",
    "- Use non-linear units like RelU to improve your model. \n",
    "- build  a deeper neural network (with more than 1 hidden layer)\n",
    "- implement an easy-to-use neural network class\n",
    "\n"
   ]
  },
  {
   "cell_type": "markdown",
   "id": "05f744f7-28af-42e8-9645-73fa79b2adb9",
   "metadata": {},
   "source": [
    "### 1 - Packages\n",
    "\n",
    "First, import all the packages you'll need during this assignment.  \n",
    "- numpy \n",
    "- matplotlib: is a library to plot graphs in Python\n",
    "- dnn_utils provides some necessary funcitons for this notebook\n",
    "- testCases provides soome test cases to assess to connectness of your functions\n",
    "- np.random.seed(1) is used to keep all the random function calls consistent.  It helps grade your work. please don't change the seed!\n",
    "\n"
   ]
  },
  {
   "cell_type": "code",
   "execution_count": 9,
   "id": "b45b3e88-362c-4a76-984b-5d08f08954b4",
   "metadata": {
    "tags": []
   },
   "outputs": [],
   "source": [
    "import numpy as np\n",
    "import h5py\n",
    "import matplotlib.pyplot as plt\n",
    "\n",
    "from testCases import *\n",
    "from dnn_utils import sigmoid, sigmoid_backward, relu, relu_backward\n",
    "from public_tests import *\n",
    "\n",
    "import copy\n",
    "\n",
    "%matplotlib inline\n",
    "plt.rcParams['figure.figsize'] = (5.0, 4.0)\n",
    "plt.rcParams['image.interpolation'] = 'nearest'\n",
    "plt.rcParams['image.cmap'] = 'gray'\n",
    "\n",
    "%load_ext autoreload\n",
    "%autoreload 2\n",
    "\n",
    "np.random.seed(1)"
   ]
  },
  {
   "cell_type": "markdown",
   "id": "aff1f6e6-4d68-4f44-b971-983520d134e9",
   "metadata": {},
   "source": [
    "### 2 -Outline\n",
    "\n",
    "To build your neural network, you'll be implementing several 'helper functions'. There helper functions will be used in the next assignement to build a two-layer neural network and an L-layer neural network. \n",
    "\n",
    "Each small helper function will have detailed instructions to walk you through the necessary steps. Here is an outline of the steps in this assignemnt. \n",
    "- Initialize the parameters for a two-layer network and for an L-layer neural network. \n",
    "- Implement the forward propagation module (shown in the purple in the figure below)\n",
    "    - Complete the LINEAR part of a layer's forward propagation step (resulting in Z)\n",
    "    - The ACTIVATION function is provided for you (relu, sigmoid)\n",
    "    - Combine the previous two steps into a new forward function\n",
    "    - Stack the forward function L-1 time and add a sigmoid at the end. This give you a new L_model_forward function.  \n",
    "-  Complete the loss\n",
    "- Implement the backword propagation module \n",
    "- Finally, update the parameters\n",
    "\n"
   ]
  },
  {
   "cell_type": "markdown",
   "id": "9020ae42-56b8-4b79-8b34-f368a3d03ac9",
   "metadata": {},
   "source": [
    "### 3 - Initialization\n",
    "\n",
    "You will write two helper functions to initialize the parameters for your model. The first function will be used to initialize parameters for a two layer model.  The second one generalizes this initialization process to L layers. \n"
   ]
  },
  {
   "cell_type": "markdown",
   "id": "a9de20b1-dd5a-42d0-b2a3-3bf08a9ab8d9",
   "metadata": {},
   "source": [
    "### 3.1 - 2-layer Neural Network \n",
    "\n",
    "#### Exercise 1 - initialize_parameters\n",
    "Create and initialize the parameters of the 2-layer neural nework. \n",
    "\n",
    "**Instructions** \n",
    "- The model's structure is: LINEAR -> RELU -> LINEAR -> SIGMOID\n",
    "- Use this random initialization for the weight matrics\n",
    "- Use zero initialization for the biases\n"
   ]
  },
  {
   "cell_type": "code",
   "execution_count": 10,
   "id": "1094e61d-77ac-47e8-980b-7fecb78516cd",
   "metadata": {
    "tags": []
   },
   "outputs": [],
   "source": [
    "def initialize_parameters(n_x, n_h, n_y):\n",
    "    \"\"\"\n",
    "    Argument: \n",
    "    n_x: size of the input layer \n",
    "    n_h: size of hidden layer\n",
    "    n_y: size of output layer\n",
    "    \n",
    "    Returns:\n",
    "    Parameters: python dictionary containing your parameters:\n",
    "        W1 -- weight matrix of shape (n_h, n_x)\n",
    "        b1 -- bias vector of shape (n_h, 1)\n",
    "        W2 - weight matrix of shape (n_y, n_h)\n",
    "        b2 - bias vector of shape (n_y, 1)\n",
    "    \"\"\"\n",
    "    np.random.seed(1)\n",
    "    #(≈ 4 lines of code)\n",
    "    # W1 = ...\n",
    "    # b1 = ...\n",
    "    # W2 = ...\n",
    "    # b2 = ...\n",
    "    # YOUR CODE STARTS HERE\n",
    "    W1 = np.random.randn(n_h, n_x) * 0.01\n",
    "    b1 = np.zeros((n_h, 1))\n",
    "    W2 = np.random.randn(n_y, n_h) * 0.01\n",
    "    b2 = np.zeros((n_y, 1))\n",
    "    \n",
    "    # YOUR CODE ENDS HERE\n",
    "    \n",
    "    parameters = {\"W1\": W1,\n",
    "                  \"b1\": b1,\n",
    "                  \"W2\": W2,\n",
    "                  \"b2\": b2}\n",
    "    \n",
    "    return parameters    \n",
    "    "
   ]
  },
  {
   "cell_type": "code",
   "execution_count": 11,
   "id": "7034aae9-1ef6-4b36-8b51-491388da2217",
   "metadata": {
    "tags": []
   },
   "outputs": [
    {
     "name": "stdout",
     "output_type": "stream",
     "text": [
      "Test Case 1:\n",
      "\n",
      "W1 = [[ 0.01624345 -0.00611756 -0.00528172]\n",
      " [-0.01072969  0.00865408 -0.02301539]]\n",
      "b1 = [[0.]\n",
      " [0.]]\n",
      "W2 = [[ 0.01744812 -0.00761207]]\n",
      "b2 = [[0.]]\n",
      "\u001b[92m All tests passed.\n",
      "\u001b[90m\n",
      "Test Case 2:\n",
      "\n",
      "W1 = [[ 0.01624345 -0.00611756 -0.00528172 -0.01072969]\n",
      " [ 0.00865408 -0.02301539  0.01744812 -0.00761207]\n",
      " [ 0.00319039 -0.0024937   0.01462108 -0.02060141]]\n",
      "b1 = [[0.]\n",
      " [0.]\n",
      " [0.]]\n",
      "W2 = [[-0.00322417 -0.00384054  0.01133769]\n",
      " [-0.01099891 -0.00172428 -0.00877858]]\n",
      "b2 = [[0.]\n",
      " [0.]]\n",
      "\u001b[92m All tests passed.\n"
     ]
    }
   ],
   "source": [
    "print(\"Test Case 1:\\n\")\n",
    "parameters = initialize_parameters(3,2,1)\n",
    "\n",
    "print(\"W1 = \" + str(parameters[\"W1\"]))\n",
    "print(\"b1 = \" + str(parameters[\"b1\"]))\n",
    "print(\"W2 = \" + str(parameters[\"W2\"]))\n",
    "print(\"b2 = \" + str(parameters[\"b2\"]))\n",
    "\n",
    "initialize_parameters_test_1(initialize_parameters)\n",
    "\n",
    "print(\"\\033[90m\\nTest Case 2:\\n\")\n",
    "parameters = initialize_parameters(4,3,2)\n",
    "\n",
    "print(\"W1 = \" + str(parameters[\"W1\"]))\n",
    "print(\"b1 = \" + str(parameters[\"b1\"]))\n",
    "print(\"W2 = \" + str(parameters[\"W2\"]))\n",
    "print(\"b2 = \" + str(parameters[\"b2\"]))\n",
    "\n",
    "initialize_parameters_test_2(initialize_parameters)"
   ]
  },
  {
   "cell_type": "markdown",
   "id": "ac3e1fdc-a145-4a10-95b0-39410ea056e1",
   "metadata": {},
   "source": [
    "### 3.2 L-layer Neural Network\n",
    "\n",
    "The initialization for a deeper L-layer neural network is more complicated because there are many more weight matrices and bias vectors. \n",
    "When completing the initialize_parameters_deep function, you should make sure that your demensions match between each layer.  \n",
    "For example, if the size of your input X is (12288, 209) (with m = 209 examples) then: \n",
    "\n",
    "<table style=\"width:100%\">\n",
    "    <tr>\n",
    "        <td>  </td> \n",
    "        <td> <b>Shape of W</b> </td> \n",
    "        <td> <b>Shape of b</b>  </td> \n",
    "        <td> <b>Activation</b> </td>\n",
    "        <td> <b>Shape of Activation</b> </td> \n",
    "    <tr>\n",
    "    <tr>\n",
    "        <td> <b>Layer 1</b> </td> \n",
    "        <td> $$(n^{[1]},12288)$$ </td> \n",
    "        <td> $(n^{[1]},1)$ </td> \n",
    "        <td> $Z^{[1]} = W^{[1]}  X + b^{[1]} $ </td> \n",
    "        <td> $(n^{[1]},209)$ </td> \n",
    "    <tr>\n",
    "    <tr>\n",
    "        <td> <b>Layer 2</b> </td> \n",
    "        <td> $(n^{[2]}, n^{[1]})$  </td> \n",
    "        <td> $(n^{[2]},1)$ </td> \n",
    "        <td>$Z^{[2]} = W^{[2]} A^{[1]} + b^{[2]}$ </td> \n",
    "        <td> $(n^{[2]}, 209)$ </td> \n",
    "    <tr>\n",
    "       <tr>\n",
    "        <td> $\\vdots$ </td> \n",
    "        <td> $\\vdots$  </td> \n",
    "        <td> $\\vdots$  </td> \n",
    "        <td> $\\vdots$</td> \n",
    "        <td> $\\vdots$  </td> \n",
    "    <tr>  \n",
    "   <tr>\n",
    "       <td> <b>Layer L-1</b> </td> \n",
    "        <td> $(n^{[L-1]}, n^{[L-2]})$ </td> \n",
    "        <td> $(n^{[L-1]}, 1)$  </td> \n",
    "        <td>$Z^{[L-1]} =  W^{[L-1]} A^{[L-2]} + b^{[L-1]}$ </td> \n",
    "        <td> $(n^{[L-1]}, 209)$ </td> \n",
    "   <tr>\n",
    "   <tr>\n",
    "       <td> <b>Layer L</b> </td> \n",
    "        <td> $(n^{[L]}, n^{[L-1]})$ </td> \n",
    "        <td> $(n^{[L]}, 1)$ </td>\n",
    "        <td> $Z^{[L]} =  W^{[L]} A^{[L-1]} + b^{[L]}$</td>\n",
    "        <td> $(n^{[L]}, 209)$  </td> \n",
    "    <tr>\n",
    "</table>\n",
    "\n",
    "\n",
    "\n",
    "Remember that when you compute $W X + b $ in python, it carries out broadcasting. for example, if :\n",
    "\n",
    "\n",
    "$$ W = \\begin{bmatrix}\n",
    "    w_{00}  & w_{01} & w_{02} \\\\\n",
    "    w_{10}  & w_{11} & w_{12} \\\\\n",
    "    w_{20}  & w_{21} & w_{22} \n",
    "\\end{bmatrix}\\;\\;\\; X = \\begin{bmatrix}\n",
    "    x_{00}  & x_{01} & x_{02} \\\\\n",
    "    x_{10}  & x_{11} & x_{12} \\\\\n",
    "    x_{20}  & x_{21} & x_{22} \n",
    "\\end{bmatrix} \\;\\;\\; b =\\begin{bmatrix}\n",
    "    b_0  \\\\\n",
    "    b_1  \\\\\n",
    "    b_2\n",
    "\\end{bmatrix}\\tag{2}$$\n",
    "\n",
    "Then $WX + b$ will be:\n",
    "\n",
    "$$ WX + b = \\begin{bmatrix}\n",
    "    (w_{00}x_{00} + w_{01}x_{10} + w_{02}x_{20}) + b_0 & (w_{00}x_{01} + w_{01}x_{11} + w_{02}x_{21}) + b_0 & \\cdots \\\\\n",
    "    (w_{10}x_{00} + w_{11}x_{10} + w_{12}x_{20}) + b_1 & (w_{10}x_{01} + w_{11}x_{11} + w_{12}x_{21}) + b_1 & \\cdots \\\\\n",
    "    (w_{20}x_{00} + w_{21}x_{10} + w_{22}x_{20}) + b_2 &  (w_{20}x_{01} + w_{21}x_{11} + w_{22}x_{21}) + b_2 & \\cdots\n",
    "\\end{bmatrix}\\tag{3}  $$\n",
    "\n",
    "\n"
   ]
  },
  {
   "cell_type": "markdown",
   "id": "c1dccdb5-eb2d-4a14-8df0-21a2c90ebbbf",
   "metadata": {},
   "source": [
    "#### Exercise 2 - initialize_parameters_deep\n",
    "\n",
    "Implement initialization for an L-layer Neural Network\n",
    "\n",
    "**Instructions**\n",
    "- The model's structure is [LINEAR -> RELUE] X (L-1) -> LINEAR -> SIGMOID. I.e., It has L-1 layers using RELU activation funcition followed by an output layer with a sigmoid activation funtion. \n",
    "- Use random initialization for the weight matrics. Use np.random.randon(d0,d1,..., dn) * 0.01\n",
    "- Use zeros initialization for the biases\n",
    "- You'll store $n^l$, the number of units in different layers, in a variable layer_dims. Now you will generalize this to L layers. \n",
    "- Here is the implementation for L = 1. It should inspire you to implement the general case\n",
    "\n",
    "if L == 1:\n",
    "    parameters[\"W\" + str(L)] = np.randon.randn(layer_dims[1], layer_dims[0]) * 0.01\n",
    "    parameters[\"b\" + str(L)] = np.zeros((layer_dims[1],1))\n",
    "    "
   ]
  },
  {
   "cell_type": "code",
   "execution_count": 20,
   "id": "45bcce1e-6cc3-4c60-91cd-2ea0ff750bf4",
   "metadata": {
    "tags": []
   },
   "outputs": [],
   "source": [
    "## GRADE FUNCTION: initialize_parameters_deep\n",
    "def initialize_parameters_deep(layer_dims):\n",
    "    \"\"\"\n",
    "    Arguments:\n",
    "    layer_dims -- python arrary (list) containing the dimensions of each layer in out network\n",
    "    returns:\n",
    "    parameters -- python dictionary containing your parameters \"W1\", \"b1\", ..., \"WL\", \"bL\":\n",
    "        wl -- weight matrix of shape (layer_dims[l], layer_dim[l-1])\n",
    "        bl -- bias vector of shape (layer_dims[l], 1)\n",
    "    \"\"\"\n",
    "    np.random.seed(3)\n",
    "    parameters = {}\n",
    "    L = len(layer_dims)\n",
    "    \n",
    "    for l in range(1, L):\n",
    "        ## YOUR CODE STARTS HERE\n",
    "        parameters['W' + str(l)] = np.random.randn(layer_dims[l], layer_dims[l-1]) * 0.01\n",
    "        parameters['b' + str(l)] = np.zeros((layer_dims[l], 1))\n",
    "        \n",
    "        ## YOUR CODE ENDS HERE\n",
    "        assert(parameters['W' + str(l)].shape == (layer_dims[l], layer_dims[l - 1]))\n",
    "        assert(parameters['b' + str(l)].shape == (layer_dims[l],1))\n",
    "    return parameters"
   ]
  },
  {
   "cell_type": "code",
   "execution_count": 22,
   "id": "ea479727-41f5-4afd-8594-1b2a8c8aec40",
   "metadata": {
    "tags": []
   },
   "outputs": [
    {
     "name": "stdout",
     "output_type": "stream",
     "text": [
      "Test Case 1 \n",
      "W1 = [[ 0.01788628  0.0043651   0.00096497 -0.01863493 -0.00277388]\n",
      " [-0.00354759 -0.00082741 -0.00627001 -0.00043818 -0.00477218]\n",
      " [-0.01313865  0.00884622  0.00881318  0.01709573  0.00050034]\n",
      " [-0.00404677 -0.0054536  -0.01546477  0.00982367 -0.01101068]]\n",
      "b1 = [[0.]\n",
      " [0.]\n",
      " [0.]\n",
      " [0.]]\n",
      "W2 = [[-0.01185047 -0.0020565   0.01486148  0.00236716]\n",
      " [-0.01023785 -0.00712993  0.00625245 -0.00160513]\n",
      " [-0.00768836 -0.00230031  0.00745056  0.01976111]]\n",
      "b2 = [[0.]\n",
      " [0.]\n",
      " [0.]]\n",
      "\u001b[92m All tests passed.\n"
     ]
    }
   ],
   "source": [
    "print(\"Test Case 1 \")\n",
    "parameters = initialize_parameters_deep([5,4,3])\n",
    "\n",
    "print(\"W1 = \" + str(parameters[\"W1\"]))\n",
    "print(\"b1 = \" + str(parameters[\"b1\"]))\n",
    "print(\"W2 = \" + str(parameters[\"W2\"]))\n",
    "print(\"b2 = \" + str(parameters[\"b2\"]))\n",
    "\n",
    "initialize_parameters_deep_test_1(initialize_parameters_deep)"
   ]
  },
  {
   "cell_type": "markdown",
   "id": "685e3361-8479-47c1-93d6-1f7d715aac75",
   "metadata": {},
   "source": [
    "### 4 - Forward Propagation Module\n",
    "\n",
    "#### 4.1 - Linear Forward\n",
    "Now that you have initialized your parameters, you can do the forward propagation modules. Start by implementing some basic functions that you can use again later when implementing the model. Now, you'll complete three functions in this order: \n",
    "- LINEAR \n",
    "- LINEAR -> ACTIVATION where ACTICATION will be either ReLU or Sigmoid\n",
    "- [LINEAR -> RELU] x (L-1) -> LINEAR -> SIGMOID (whole model)\n",
    "\n",
    "The linear forward module (vectorized over all the examples) computes the following equations:\n",
    "\n",
    "$$\n",
    "Z^{[l]} = W^{[l]}A^{[l]} + b^{[l]} \\tag{4}\n",
    "$$\n",
    "\n",
    "where $A^{[0]} = X$\n",
    "\n"
   ]
  },
  {
   "cell_type": "markdown",
   "id": "bc44f5a4-054e-4066-9ab2-874953acd19d",
   "metadata": {},
   "source": [
    "#### Exercise 3 - linear_forward\n",
    "\n",
    "Build the linear part of forward propagation.\n",
    " \n",
    "**Reminder** The mathematical representation of this unit is $Z^{[l]} = W^{[l]}A{[l-1]} + b^{[l]}. You may also find np.dot() useful. if your dimensions don't match. printing W.shpae may help.\n",
    "\n"
   ]
  },
  {
   "cell_type": "code",
   "execution_count": 24,
   "id": "65332010-0363-41e9-8efa-34eed9271c70",
   "metadata": {
    "tags": []
   },
   "outputs": [],
   "source": [
    "## GRADE FUNCTION: linear_forward \n",
    "def linear_forward(A, W, b):\n",
    "    \"\"\"\n",
    "    Implement the linear part of a layer's forward propagation. \n",
    "    Arguments:\n",
    "    A -- activations from previous layer (or input data): (size of previous layer, number of examples)\n",
    "    W -- weights matrix: numpy array of shape (size of current layer, size of previous layer)\n",
    "    b -- bias vector, numpy array of shape (size of the current layer, 1)\n",
    "    \n",
    "    Returns:\n",
    "    Z -- the input of the activation function, also called pre-activation parameter\n",
    "    cache -- a python tuple containing \"A\", \"W\" and \"b\"; stored for computing the backward pass efficiently. \n",
    "    \n",
    "    \"\"\"\n",
    "    ## YOUR CODE STARTS HERE\n",
    "    Z = np.dot(W, A) + b \n",
    "    \n",
    "    ## YOUR CODE ENDS HERE\n",
    "    \n",
    "    cache = (A, W, b)\n",
    "    \n",
    "    return Z, cache"
   ]
  },
  {
   "cell_type": "code",
   "execution_count": 30,
   "id": "328a0263-b0ce-4132-80ef-e71e338eb7cd",
   "metadata": {
    "tags": []
   },
   "outputs": [
    {
     "name": "stdout",
     "output_type": "stream",
     "text": [
      "Z = [[ 3.26295337 -1.23429987]]\n",
      "\u001b[92m All tests passed.\n"
     ]
    }
   ],
   "source": [
    "t_A, t_W, t_b = linear_forward_test_case()\n",
    "print(\"Z = \" + str(t_Z))\n",
    "linear_forward_test(linear_forward)"
   ]
  },
  {
   "cell_type": "markdown",
   "id": "acd120dc-f586-4672-b601-3273790622bc",
   "metadata": {},
   "source": [
    "### 4.2 - Linear-Activation Forward\n",
    "\n",
    "In this notebook, you will use two activation functions:\n",
    "\n",
    "-  **Sigmoid**:  $\\sigma(Z) = \\sigma(W A + b) = \\frac{1}{1+ e^{-W A +b}}$. You've been provided with the `sigmoid` function which returns **two** items: the activation value `a` and a `cache` that contains `Z` (It's what we will feed in to the corresponding backword function). To use it you could just call:\n",
    "```python\n",
    "A, activation_cache = sigmoid(Z)\n",
    "\n",
    "````\n",
    "- **ReLU**: The mathematical formula for ReLu is $A = RELU(Z) = max(0, Z)$. You've been provided with the `relu` function. This function returns **two** items: the activation value `A` and a `cache` that contains `Z` (it's what you'll feed in to the corresponding backward function). To use it you could just call:\n",
    "\n",
    "``` python\n",
    "A, activation_cache = relu(Z)\n",
    "```\n",
    "\n",
    "For added convenience, you're going to group two functions into one function. Hence, you'll implement a function that does the LINEAR forward step followd by an ACTIVATION forward step.\n",
    "\n"
   ]
  },
  {
   "cell_type": "markdown",
   "id": "2bcfcb00-8e94-4345-ab3a-928267c7554f",
   "metadata": {},
   "source": [
    "#### Exercise 4 - Linear_activation_forward\n",
    "Implement the forward propagation of the *LINEAR -> ACTIVATION layer. "
   ]
  },
  {
   "cell_type": "code",
   "execution_count": 36,
   "id": "92303081-5575-42af-831d-f258d71afe23",
   "metadata": {
    "tags": []
   },
   "outputs": [],
   "source": [
    "## GRADE FUNCTION: linear_activation_forward\n",
    "def linear_activation_forward(A_prev, W, b, activation):\n",
    "    \"\"\"\n",
    "    Implement the forward propagation for the LINEAR->ACTIVATION layer\n",
    "\n",
    "    Arguments:\n",
    "    A_prev -- activations from previous layer (or input data): (size of previous layer, number of examples)\n",
    "    W -- weights matrix: numpy array of shape (size of current layer, size of previous layer)\n",
    "    b -- bias vector, numpy array of shape (size of the current layer, 1)\n",
    "    activation -- the activation to be used in this layer, stored as a text string: \"sigmoid\" or \"relu\"\n",
    "\n",
    "    Returns:\n",
    "    A -- the output of the activation function, also called the post-activation value \n",
    "    cache -- a python tuple containing \"linear_cache\" and \"activation_cache\";\n",
    "    \"\"\"\n",
    "    if activation == 'sigmoid':\n",
    "        #(≈ 2 lines of code)\n",
    "        # Z, linear_cache = ...\n",
    "        # A, activation_cache = ...\n",
    "        # YOUR CODE STARTS HERE\n",
    "\n",
    "        Z, linear_cache = linear_forward(A_prev, W, b)\n",
    "        A, activation_cache = sigmoid(Z)\n",
    "    \n",
    "    \n",
    "    # YOUR CODE ENDS HERE   \n",
    "    elif activation == 'relu':\n",
    "        \n",
    "        #(≈ 2 lines of code)\n",
    "        # Z, linear_cache = ...\n",
    "        # A, activation_cache = ...\n",
    "        # YOUR CODE STARTS HERE\n",
    "        Z, linear_cache = linear_forward(A_prev, W, b)\n",
    "        A, activation_cache = relu(Z)\n",
    "\n",
    "\n",
    "        # YOUR CODE ENDS HERE\n",
    "\n",
    "\n",
    "        \n",
    "    cache = (linear_cache, activation_cache)\n",
    "    \n",
    "    return A, cache\n",
    "    "
   ]
  },
  {
   "cell_type": "code",
   "execution_count": 37,
   "id": "80c39ae5-2af2-45f8-99dc-21f55bfa33ec",
   "metadata": {
    "tags": []
   },
   "outputs": [
    {
     "name": "stdout",
     "output_type": "stream",
     "text": [
      "With sigmoid: A = [[0.96890023 0.11013289]]\n",
      "With ReLU: A = [[3.43896131 0.        ]]\n",
      "\u001b[92m All tests passed.\n"
     ]
    }
   ],
   "source": [
    "t_A_prev, t_W, t_b = linear_activation_forward_test_case()\n",
    "\n",
    "t_A, t_linear_activation_cache = linear_activation_forward(t_A_prev, t_W, t_b, activation = \"sigmoid\")\n",
    "print(\"With sigmoid: A = \" + str(t_A))\n",
    "\n",
    "t_A, t_linear_activation_cache = linear_activation_forward(t_A_prev, t_W, t_b, activation = \"relu\")\n",
    "print(\"With ReLU: A = \" + str(t_A))\n",
    "\n",
    "linear_activation_forward_test(linear_activation_forward)"
   ]
  },
  {
   "cell_type": "markdown",
   "id": "81314403-cec0-4b6c-bb53-b869415703c2",
   "metadata": {},
   "source": [
    "**Note**: In deep learning, the \"LINEAR -> ACTIVATION\" computation is counted as a single layer in the neural network, not two layers. "
   ]
  },
  {
   "cell_type": "markdown",
   "id": "3532bf16-6c44-4028-9cff-839d70f6459c",
   "metadata": {},
   "source": [
    "### 4.3 - L-Layer Model\n",
    "\n",
    "For even more convenience when implementing the L-layer Neural Net, you will need a function that replicates one (linear_activation_forward with RELU) L-1 times, then follows that with one linear_activation_forward with sigmoid. \n",
    "\n",
    "\n",
    "### Exercise 5 - L_model_forward\n",
    "**Instructions**: In the code below, the variable `AL` will denote $A^{[L]} = \\sigma(Z^{[L]}) = \\sigma(W^{[L]} A^{[L-1]} + b^{[L]})$. (This is sometimes also called `Yhat`, i.e., this is $\\hat{Y}$.) \n",
    "\n",
    "**Hints**:\n",
    "- Use the functions you've previously written\n",
    "- Use for loop to replicate [LINEAR->RELU] (L-1) times\n",
    "- Don't forget to keep track of the caches in the \"caches\" list. TO ad a new value c to a list , you can use list.append(c)\n"
   ]
  },
  {
   "cell_type": "code",
   "execution_count": 55,
   "id": "72469360-a21a-40a2-bdbb-e08fc0cb0cc1",
   "metadata": {
    "tags": []
   },
   "outputs": [],
   "source": [
    "## GRADE FUNCTION: L_model_forward\n",
    "def L_model_forward(X, parameters):\n",
    "    \"\"\"\n",
    "    Implement forward propagation for the [LINEAR->RELU]*(L-1)->LINEAR->SIGMOID computation\n",
    "    \n",
    "    Arguments:\n",
    "    X -- data, numpy array of shape (input size, number of examples)\n",
    "    parameters -- output of initialize_parameters_deep()\n",
    "    \n",
    "    Returns:\n",
    "    AL -- activation value from the output (last) layer\n",
    "    caches -- list of caches containing:\n",
    "                every cache of linear_activation_forward() (there are L of them, indexed from 0 to L-1)\n",
    "    \"\"\"\n",
    "    caches = []\n",
    "    A = X\n",
    "    L = len(parameters) // 2\n",
    "    \n",
    "    ## Implement LINEAR -> RELU  * (L -1). Add cache to the caches list\n",
    "    ## The for loop starts at 1 beacuse layer 0 is the input\n",
    "    for l in range(1, L - 1):\n",
    "        print(l)\n",
    "        A_prev = A\n",
    "        \n",
    "        #(≈ 2 lines of code)\n",
    "        # A, cache = ...\n",
    "        # caches ...\n",
    "        # YOUR CODE STARTS HERE\n",
    "        A, cache = linear_activation_forward(A_prev, parameters['W' + str(l)], parameters['b' + str(l)], 'relu')\n",
    "        caches.append(cache)\n",
    "        \n",
    "        # YOUR CODE ENDS HERE\n",
    "    \n",
    "    \n",
    "    # Implement LINEAR -> SIGMOID. Add \"cache\" to the \"caches\" list.\n",
    "    #(≈ 2 lines of code)\n",
    "    # AL, cache = ...\n",
    "    # caches ...\n",
    "    # YOUR CODE STARTS HERE\n",
    "    AL, cache = linear_activation_forward(A_prev, parameters['W' + str(L)], parameters['b' + str(L)], 'sigmoid')\n",
    "    caches.append(cache)\n",
    "    \n",
    "    # YOUR CODE ENDS HERE\n",
    "          \n",
    "    return AL, caches\n",
    "    "
   ]
  },
  {
   "cell_type": "code",
   "execution_count": 56,
   "id": "2d1bbffb-3c7e-4339-8d48-f22a5c4abdc9",
   "metadata": {
    "tags": []
   },
   "outputs": [],
   "source": [
    "t_X, t_parameters = L_model_forward_test_case_2hidden()\n"
   ]
  },
  {
   "cell_type": "code",
   "execution_count": 57,
   "id": "7ec7c1d0-fd6f-4bad-acb1-3e5647f0af94",
   "metadata": {
    "tags": []
   },
   "outputs": [
    {
     "name": "stdout",
     "output_type": "stream",
     "text": [
      "1\n"
     ]
    },
    {
     "ename": "ValueError",
     "evalue": "shapes (1,3) and (5,4) not aligned: 3 (dim 1) != 5 (dim 0)",
     "output_type": "error",
     "traceback": [
      "\u001b[0;31m---------------------------------------------------------------------------\u001b[0m",
      "\u001b[0;31mValueError\u001b[0m                                Traceback (most recent call last)",
      "Cell \u001b[0;32mIn[57], line 1\u001b[0m\n\u001b[0;32m----> 1\u001b[0m t_AL, t_caches \u001b[38;5;241m=\u001b[39m L_model_forward(t_X, t_parameters)\n",
      "Cell \u001b[0;32mIn[55], line 40\u001b[0m, in \u001b[0;36mL_model_forward\u001b[0;34m(X, parameters)\u001b[0m\n\u001b[1;32m     30\u001b[0m     caches\u001b[38;5;241m.\u001b[39mappend(cache)\n\u001b[1;32m     32\u001b[0m     \u001b[38;5;66;03m# YOUR CODE ENDS HERE\u001b[39;00m\n\u001b[1;32m     33\u001b[0m \n\u001b[1;32m     34\u001b[0m \n\u001b[0;32m   (...)\u001b[0m\n\u001b[1;32m     38\u001b[0m \u001b[38;5;66;03m# caches ...\u001b[39;00m\n\u001b[1;32m     39\u001b[0m \u001b[38;5;66;03m# YOUR CODE STARTS HERE\u001b[39;00m\n\u001b[0;32m---> 40\u001b[0m AL, cache \u001b[38;5;241m=\u001b[39m linear_activation_forward(A_prev, parameters[\u001b[38;5;124m'\u001b[39m\u001b[38;5;124mW\u001b[39m\u001b[38;5;124m'\u001b[39m \u001b[38;5;241m+\u001b[39m \u001b[38;5;28mstr\u001b[39m(L)], parameters[\u001b[38;5;124m'\u001b[39m\u001b[38;5;124mb\u001b[39m\u001b[38;5;124m'\u001b[39m \u001b[38;5;241m+\u001b[39m \u001b[38;5;28mstr\u001b[39m(L)], \u001b[38;5;124m'\u001b[39m\u001b[38;5;124msigmoid\u001b[39m\u001b[38;5;124m'\u001b[39m)\n\u001b[1;32m     41\u001b[0m caches\u001b[38;5;241m.\u001b[39mappend(cache)\n\u001b[1;32m     43\u001b[0m \u001b[38;5;66;03m# YOUR CODE ENDS HERE\u001b[39;00m\n",
      "Cell \u001b[0;32mIn[36], line 22\u001b[0m, in \u001b[0;36mlinear_activation_forward\u001b[0;34m(A_prev, W, b, activation)\u001b[0m\n\u001b[1;32m      3\u001b[0m \u001b[38;5;250m\u001b[39m\u001b[38;5;124;03m\"\"\"\u001b[39;00m\n\u001b[1;32m      4\u001b[0m \u001b[38;5;124;03mImplement the forward propagation for the LINEAR->ACTIVATION layer\u001b[39;00m\n\u001b[1;32m      5\u001b[0m \n\u001b[0;32m   (...)\u001b[0m\n\u001b[1;32m     14\u001b[0m \u001b[38;5;124;03mcache -- a python tuple containing \"linear_cache\" and \"activation_cache\";\u001b[39;00m\n\u001b[1;32m     15\u001b[0m \u001b[38;5;124;03m\"\"\"\u001b[39;00m\n\u001b[1;32m     16\u001b[0m \u001b[38;5;28;01mif\u001b[39;00m activation \u001b[38;5;241m==\u001b[39m \u001b[38;5;124m'\u001b[39m\u001b[38;5;124msigmoid\u001b[39m\u001b[38;5;124m'\u001b[39m:\n\u001b[1;32m     17\u001b[0m     \u001b[38;5;66;03m#(≈ 2 lines of code)\u001b[39;00m\n\u001b[1;32m     18\u001b[0m     \u001b[38;5;66;03m# Z, linear_cache = ...\u001b[39;00m\n\u001b[1;32m     19\u001b[0m     \u001b[38;5;66;03m# A, activation_cache = ...\u001b[39;00m\n\u001b[1;32m     20\u001b[0m     \u001b[38;5;66;03m# YOUR CODE STARTS HERE\u001b[39;00m\n\u001b[0;32m---> 22\u001b[0m     Z, linear_cache \u001b[38;5;241m=\u001b[39m linear_forward(A_prev, W, b)\n\u001b[1;32m     23\u001b[0m     A, activation_cache \u001b[38;5;241m=\u001b[39m sigmoid(Z)\n\u001b[1;32m     26\u001b[0m \u001b[38;5;66;03m# YOUR CODE ENDS HERE   \u001b[39;00m\n",
      "Cell \u001b[0;32mIn[24], line 16\u001b[0m, in \u001b[0;36mlinear_forward\u001b[0;34m(A, W, b)\u001b[0m\n\u001b[1;32m      3\u001b[0m \u001b[38;5;250m\u001b[39m\u001b[38;5;124;03m\"\"\"\u001b[39;00m\n\u001b[1;32m      4\u001b[0m \u001b[38;5;124;03mImplement the linear part of a layer's forward propagation. \u001b[39;00m\n\u001b[1;32m      5\u001b[0m \u001b[38;5;124;03mArguments:\u001b[39;00m\n\u001b[0;32m   (...)\u001b[0m\n\u001b[1;32m     13\u001b[0m \u001b[38;5;124;03m\u001b[39;00m\n\u001b[1;32m     14\u001b[0m \u001b[38;5;124;03m\"\"\"\u001b[39;00m\n\u001b[1;32m     15\u001b[0m \u001b[38;5;66;03m## YOUR CODE STARTS HERE\u001b[39;00m\n\u001b[0;32m---> 16\u001b[0m Z \u001b[38;5;241m=\u001b[39m np\u001b[38;5;241m.\u001b[39mdot(W, A) \u001b[38;5;241m+\u001b[39m b \n\u001b[1;32m     18\u001b[0m \u001b[38;5;66;03m## YOUR CODE ENDS HERE\u001b[39;00m\n\u001b[1;32m     20\u001b[0m cache \u001b[38;5;241m=\u001b[39m (A, W, b)\n",
      "File \u001b[0;32m<__array_function__ internals>:200\u001b[0m, in \u001b[0;36mdot\u001b[0;34m(*args, **kwargs)\u001b[0m\n",
      "\u001b[0;31mValueError\u001b[0m: shapes (1,3) and (5,4) not aligned: 3 (dim 1) != 5 (dim 0)"
     ]
    }
   ],
   "source": [
    "t_AL, t_caches = L_model_forward(t_X, t_parameters)\n"
   ]
  },
  {
   "cell_type": "code",
   "execution_count": 46,
   "id": "f1d925a3-3a38-44e7-80ca-2ff4e8861bec",
   "metadata": {
    "tags": []
   },
   "outputs": [
    {
     "data": {
      "text/plain": [
       "{'W1': array([[ 0.35480861,  1.81259031, -1.3564758 , -0.46363197,  0.82465384],\n",
       "        [-1.17643148,  1.56448966,  0.71270509, -0.1810066 ,  0.53419953],\n",
       "        [-0.58661296, -1.48185327,  0.85724762,  0.94309899,  0.11444143],\n",
       "        [-0.02195668, -2.12714455, -0.83440747, -0.46550831,  0.23371059]]),\n",
       " 'b1': array([[ 1.38503523],\n",
       "        [-0.51962709],\n",
       "        [-0.78015214],\n",
       "        [ 0.95560959]]),\n",
       " 'W2': array([[-0.12673638, -1.36861282,  1.21848065, -0.85750144],\n",
       "        [-0.56147088, -1.0335199 ,  0.35877096,  1.07368134],\n",
       "        [-0.37550472,  0.39636757, -0.47144628,  2.33660781]]),\n",
       " 'b2': array([[ 1.50278553],\n",
       "        [-0.59545972],\n",
       "        [ 0.52834106]]),\n",
       " 'W3': array([[ 0.9398248 ,  0.42628539, -0.75815703]]),\n",
       " 'b3': array([[-0.16236698]])}"
      ]
     },
     "execution_count": 46,
     "metadata": {},
     "output_type": "execute_result"
    }
   ],
   "source": [
    "t_parameters"
   ]
  },
  {
   "cell_type": "code",
   "execution_count": null,
   "id": "329498eb-a46c-4046-952e-462fdd220c4e",
   "metadata": {},
   "outputs": [],
   "source": []
  }
 ],
 "metadata": {
  "kernelspec": {
   "display_name": "Python 3 (ipykernel)",
   "language": "python",
   "name": "python3"
  },
  "language_info": {
   "codemirror_mode": {
    "name": "ipython",
    "version": 3
   },
   "file_extension": ".py",
   "mimetype": "text/x-python",
   "name": "python",
   "nbconvert_exporter": "python",
   "pygments_lexer": "ipython3",
   "version": "3.11.4"
  }
 },
 "nbformat": 4,
 "nbformat_minor": 5
}
