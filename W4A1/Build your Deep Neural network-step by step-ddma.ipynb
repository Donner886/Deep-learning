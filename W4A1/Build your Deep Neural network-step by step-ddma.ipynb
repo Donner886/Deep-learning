{
 "cells": [
  {
   "cell_type": "markdown",
   "id": "b6a44181-0c61-448b-8cab-8dc97637fd92",
   "metadata": {},
   "source": [
    "## Building your Deep Neural Network: step by step\n",
    "\n",
    "Welcome to your week4 assignemnt(part 1 of 2)! Previously you trained 2-layer Nearual Network with a single hidden layer. This week, you will build a deep neural network with as many layers as you want. \n",
    "- in this notebook, you'll implement all the functions required to build a deep neural nework.\n",
    "- For the next assignment, you'll use these functions to build a deep neural network for image classification. \n",
    "\n",
    "#### By the end of this assignement, you'll be able to: \n",
    "- Use non-linear units like RelU to improve your model. \n",
    "- build  a deeper neural network (with more than 1 hidden layer)\n",
    "- implement an easy-to-use neural network class\n",
    "\n"
   ]
  },
  {
   "cell_type": "markdown",
   "id": "05f744f7-28af-42e8-9645-73fa79b2adb9",
   "metadata": {},
   "source": [
    "### 1 - Packages\n",
    "\n",
    "First, import all the packages you'll need during this assignment.  \n",
    "- numpy \n",
    "- matplotlib: is a library to plot graphs in Python\n",
    "- dnn_utils provides some necessary funcitons for this notebook\n",
    "- testCases provides soome test cases to assess to connectness of your functions\n",
    "- np.random.seed(1) is used to keep all the random function calls consistent.  It helps grade your work. please don't change the seed!\n",
    "\n"
   ]
  },
  {
   "cell_type": "code",
   "execution_count": 3,
   "id": "b45b3e88-362c-4a76-984b-5d08f08954b4",
   "metadata": {
    "tags": []
   },
   "outputs": [],
   "source": [
    "import numpy as np\n",
    "import h5py\n",
    "import matplotlib.pyplot as plt\n",
    "\n",
    "from testCases import *\n",
    "from dnn_utils import sigmoid, sigmoid_backward, relu, relu_backward\n",
    "from public_tests import *\n",
    "\n",
    "import copy\n",
    "\n",
    "%matplotlib inline\n",
    "plt.rcParams['figure.figsize'] = (5.0, 4.0)\n",
    "plt.rcParams['image.interpolation'] = 'nearest'\n",
    "plt.rcParams['image.cmap'] = 'gray'\n",
    "\n",
    "%load_ext autoreload\n",
    "%autoreload 2\n",
    "\n",
    "np.random.seed(1)"
   ]
  },
  {
   "cell_type": "markdown",
   "id": "aff1f6e6-4d68-4f44-b971-983520d134e9",
   "metadata": {},
   "source": [
    "### 2 -Outline\n",
    "\n",
    "To build your neural network, you'll be implementing several 'helper functions'. There helper functions will be used in the next assignement to build a two-layer neural network and an L-layer neural network. \n",
    "\n",
    "Each small helper function will have detailed instructions to walk you through the necessary steps. Here is an outline of the steps in this assignemnt. \n",
    "- Initialize the parameters for a two-layer network and for an L-layer neural network. \n",
    "- Implement the forward propagation module (shown in the purple in the figure below)\n",
    "    - Complete the LINEAR part of a layer's forward propagation step (resulting in Z)\n",
    "    - The ACTIVATION function is provided for you (relu, sigmoid)\n",
    "    - Combine the previous two steps into a new forward function\n",
    "    - Stack the forward function L-1 time and add a sigmoid at the end. This give you a new L_model_forward function.  \n",
    "-  Complete the loss\n",
    "- Implement the backword propagation module \n",
    "- Finally, update the parameters\n",
    "\n"
   ]
  },
  {
   "cell_type": "markdown",
   "id": "9020ae42-56b8-4b79-8b34-f368a3d03ac9",
   "metadata": {},
   "source": [
    "### 3 - Initialization\n",
    "\n",
    "You will write two helper functions to initialize the parameters for your model. The first function will be used to initialize parameters for a two layer model.  The second one generalizes this initialization process to L layers. \n"
   ]
  },
  {
   "cell_type": "markdown",
   "id": "a9de20b1-dd5a-42d0-b2a3-3bf08a9ab8d9",
   "metadata": {},
   "source": [
    "### 3.1 - 2-layer Neural Network \n",
    "\n",
    "#### Exercise 1 - initialize_parameters\n",
    "Create and initialize the parameters of the 2-layer neural nework. \n",
    "\n",
    "**Instructions** \n",
    "- The model's structure is: LINEAR -> RELU -> LINEAR -> SIGMOID\n",
    "- Use this random initialization for the weight matrics\n",
    "- Use zero initialization for the biases\n"
   ]
  },
  {
   "cell_type": "code",
   "execution_count": 7,
   "id": "1094e61d-77ac-47e8-980b-7fecb78516cd",
   "metadata": {
    "tags": []
   },
   "outputs": [],
   "source": [
    "def initialize_parameters(n_x, n_h, n_y):\n",
    "    \"\"\"\n",
    "    Argument: \n",
    "    n_x: size of the input layer \n",
    "    n_h: size of hidden layer\n",
    "    n_y: size of output layer\n",
    "    \n",
    "    Returns:\n",
    "    Parameters: python dictionary containing your parameters:\n",
    "        W1 -- weight matrix of shape (n_h, n_x)\n",
    "        b1 -- bias vector of shape (n_h, 1)\n",
    "        W2 - weight matrix of shape (n_y, n_h)\n",
    "        b2 - bias vector of shape (n_y, 1)\n",
    "    \"\"\"\n",
    "    np.random.seed(1)\n",
    "    #(≈ 4 lines of code)\n",
    "    # W1 = ...\n",
    "    # b1 = ...\n",
    "    # W2 = ...\n",
    "    # b2 = ...\n",
    "    # YOUR CODE STARTS HERE\n",
    "    W1 = np.random.randn(n_h, n_x) * 0.01\n",
    "    b1 = np.zeros((n_h, 1))\n",
    "    W2 = np.random.randn(n_y, n_h) * 0.01\n",
    "    b2 = np.zeros((n_y, 1))\n",
    "    \n",
    "    # YOUR CODE ENDS HERE\n",
    "    \n",
    "    parameters = {\"W1\": W1,\n",
    "                  \"b1\": b1,\n",
    "                  \"W2\": W2,\n",
    "                  \"b2\": b2}\n",
    "    \n",
    "    return parameters    \n",
    "    "
   ]
  },
  {
   "cell_type": "code",
   "execution_count": 9,
   "id": "7034aae9-1ef6-4b36-8b51-491388da2217",
   "metadata": {
    "tags": []
   },
   "outputs": [
    {
     "name": "stdout",
     "output_type": "stream",
     "text": [
      "Test Case 1:\n",
      "\n",
      "W1 = [[ 0.01624345 -0.00611756 -0.00528172]\n",
      " [-0.01072969  0.00865408 -0.02301539]]\n",
      "b1 = [[0.]\n",
      " [0.]]\n",
      "W2 = [[ 0.01744812 -0.00761207]]\n",
      "b2 = [[0.]]\n",
      "\u001b[92m All tests passed.\n",
      "\u001b[90m\n",
      "Test Case 2:\n",
      "\n",
      "W1 = [[ 0.01624345 -0.00611756 -0.00528172 -0.01072969]\n",
      " [ 0.00865408 -0.02301539  0.01744812 -0.00761207]\n",
      " [ 0.00319039 -0.0024937   0.01462108 -0.02060141]]\n",
      "b1 = [[0.]\n",
      " [0.]\n",
      " [0.]]\n",
      "W2 = [[-0.00322417 -0.00384054  0.01133769]\n",
      " [-0.01099891 -0.00172428 -0.00877858]]\n",
      "b2 = [[0.]\n",
      " [0.]]\n",
      "\u001b[92m All tests passed.\n"
     ]
    }
   ],
   "source": [
    "print(\"Test Case 1:\\n\")\n",
    "parameters = initialize_parameters(3,2,1)\n",
    "\n",
    "print(\"W1 = \" + str(parameters[\"W1\"]))\n",
    "print(\"b1 = \" + str(parameters[\"b1\"]))\n",
    "print(\"W2 = \" + str(parameters[\"W2\"]))\n",
    "print(\"b2 = \" + str(parameters[\"b2\"]))\n",
    "\n",
    "initialize_parameters_test_1(initialize_parameters)\n",
    "\n",
    "print(\"\\033[90m\\nTest Case 2:\\n\")\n",
    "parameters = initialize_parameters(4,3,2)\n",
    "\n",
    "print(\"W1 = \" + str(parameters[\"W1\"]))\n",
    "print(\"b1 = \" + str(parameters[\"b1\"]))\n",
    "print(\"W2 = \" + str(parameters[\"W2\"]))\n",
    "print(\"b2 = \" + str(parameters[\"b2\"]))\n",
    "\n",
    "initialize_parameters_test_2(initialize_parameters)"
   ]
  },
  {
   "cell_type": "markdown",
   "id": "ac3e1fdc-a145-4a10-95b0-39410ea056e1",
   "metadata": {},
   "source": [
    "### 3.2 L-layer Neural Network\n",
    "\n",
    "The initialization for a deeper L-layer neural network is more complicated because there are many more weight matrices and bias vectors. \n",
    "When completing the initialize_parameters_deep function, you should make sure that your demensions match between each layer.  \n",
    "For example, if the size of your input X is (12288, 209) (with m = 209 examples) then: \n",
    "\n",
    "<table style=\"width:100%\">\n",
    "    <tr>\n",
    "        <td>  </td> \n",
    "        <td> <b>Shape of W</b> </td> \n",
    "        <td> <b>Shape of b</b>  </td> \n",
    "        <td> <b>Activation</b> </td>\n",
    "        <td> <b>Shape of Activation</b> </td> \n",
    "    <tr>\n",
    "    <tr>\n",
    "        <td> <b>Layer 1</b> </td> \n",
    "        <td> $$(n^{[1]},12288)$$ </td> \n",
    "        <td> $(n^{[1]},1)$ </td> \n",
    "        <td> $Z^{[1]} = W^{[1]}  X + b^{[1]} $ </td> \n",
    "        <td> $(n^{[1]},209)$ </td> \n",
    "    <tr>\n",
    "    <tr>\n",
    "        <td> <b>Layer 2</b> </td> \n",
    "        <td> $(n^{[2]}, n^{[1]})$  </td> \n",
    "        <td> $(n^{[2]},1)$ </td> \n",
    "        <td>$Z^{[2]} = W^{[2]} A^{[1]} + b^{[2]}$ </td> \n",
    "        <td> $(n^{[2]}, 209)$ </td> \n",
    "    <tr>\n",
    "       <tr>\n",
    "        <td> $\\vdots$ </td> \n",
    "        <td> $\\vdots$  </td> \n",
    "        <td> $\\vdots$  </td> \n",
    "        <td> $\\vdots$</td> \n",
    "        <td> $\\vdots$  </td> \n",
    "    <tr>  \n",
    "   <tr>\n",
    "       <td> <b>Layer L-1</b> </td> \n",
    "        <td> $(n^{[L-1]}, n^{[L-2]})$ </td> \n",
    "        <td> $(n^{[L-1]}, 1)$  </td> \n",
    "        <td>$Z^{[L-1]} =  W^{[L-1]} A^{[L-2]} + b^{[L-1]}$ </td> \n",
    "        <td> $(n^{[L-1]}, 209)$ </td> \n",
    "   <tr>\n",
    "   <tr>\n",
    "       <td> <b>Layer L</b> </td> \n",
    "        <td> $(n^{[L]}, n^{[L-1]})$ </td> \n",
    "        <td> $(n^{[L]}, 1)$ </td>\n",
    "        <td> $Z^{[L]} =  W^{[L]} A^{[L-1]} + b^{[L]}$</td>\n",
    "        <td> $(n^{[L]}, 209)$  </td> \n",
    "    <tr>\n",
    "</table>\n",
    "\n",
    "\n",
    "\n",
    "Remember that when you compute $W X + b $ in python, it carries out broadcasting. for example, if :\n",
    "\n",
    "\n",
    "$$ W = \\begin{bmatrix}\n",
    "    w_{00}  & w_{01} & w_{02} \\\\\n",
    "    w_{10}  & w_{11} & w_{12} \\\\\n",
    "    w_{20}  & w_{21} & w_{22} \n",
    "\\end{bmatrix}\\;\\;\\; X = \\begin{bmatrix}\n",
    "    x_{00}  & x_{01} & x_{02} \\\\\n",
    "    x_{10}  & x_{11} & x_{12} \\\\\n",
    "    x_{20}  & x_{21} & x_{22} \n",
    "\\end{bmatrix} \\;\\;\\; b =\\begin{bmatrix}\n",
    "    b_0  \\\\\n",
    "    b_1  \\\\\n",
    "    b_2\n",
    "\\end{bmatrix}\\tag{2}$$\n",
    "\n",
    "Then $WX + b$ will be:\n",
    "\n",
    "$$ WX + b = \\begin{bmatrix}\n",
    "    (w_{00}x_{00} + w_{01}x_{10} + w_{02}x_{20}) + b_0 & (w_{00}x_{01} + w_{01}x_{11} + w_{02}x_{21}) + b_0 & \\cdots \\\\\n",
    "    (w_{10}x_{00} + w_{11}x_{10} + w_{12}x_{20}) + b_1 & (w_{10}x_{01} + w_{11}x_{11} + w_{12}x_{21}) + b_1 & \\cdots \\\\\n",
    "    (w_{20}x_{00} + w_{21}x_{10} + w_{22}x_{20}) + b_2 &  (w_{20}x_{01} + w_{21}x_{11} + w_{22}x_{21}) + b_2 & \\cdots\n",
    "\\end{bmatrix}\\tag{3}  $$\n",
    "\n",
    "\n"
   ]
  },
  {
   "cell_type": "markdown",
   "id": "c1dccdb5-eb2d-4a14-8df0-21a2c90ebbbf",
   "metadata": {},
   "source": [
    "#### Exercise 2 - initialize_parameters_deep\n",
    "\n",
    "Implement initialization for an L-layer Neural Network\n",
    "\n",
    "**Instructions**\n",
    "- The model's structure is [LINEAR -> RELUE] X (L-1) -> LINEAR -> SIGMOID. I.e., It has L-1 layers using RELU activation funcition followed by an output layer with a sigmoid activation funtion. \n",
    "- Use random initialization for the weight matrics. Use np.random.randon(d0,d1,..., dn) * 0.01\n",
    "- Use zeros initialization for the biases\n",
    "- You'll store $n^l$, the number of units in different layers, in a variable layer_dims. Now you will generalize this to L layers. \n",
    "- Here is the implementation for L = 1. It should inspire you to implement the general case\n",
    "\n",
    "if L == 1:\n",
    "    parameters[\"W\" + str(L)] = np.randon.randn(layer_dims[1], layer_dims[0]) * 0.01\n",
    "    parameters[\"b\" + str(L)] = np.zeros((layer_dims[1],1))\n",
    "    "
   ]
  },
  {
   "cell_type": "code",
   "execution_count": 14,
   "id": "45bcce1e-6cc3-4c60-91cd-2ea0ff750bf4",
   "metadata": {
    "tags": []
   },
   "outputs": [],
   "source": [
    "## GRADE FUNCTION: initialize_parameters_deep\n",
    "def initialize_parameters_deep(layer_dims):\n",
    "    \"\"\"\n",
    "    Arguments:\n",
    "    layer_dims -- python arrary (list) containing the dimensions of each layer in out network\n",
    "    returns:\n",
    "    parameters -- python dictionary containing your parameters \"W1\", \"b1\", ..., \"WL\", \"bL\":\n",
    "        wl -- weight matrix of shape (layer_dims[l], layer_dim[l-1])\n",
    "        bl -- bias vector of shape (layer_dims[l], 1)\n",
    "    \"\"\"\n",
    "    np.random.seed(3)\n",
    "    parameters = {}\n",
    "    L = len(layer_dims)\n",
    "    \n",
    "    for l in range(1, L):\n",
    "        ## YOUR CODE STARTS HERE\n",
    "        parameters['W' + str(l)] = np.random.randn(layer_dims[l], layer_dims[l-1]) * 0.01\n",
    "        parameters['b' + str(l)] = np.zeros((layer_dims[l], 1))\n",
    "        \n",
    "        ## YOUR CODE ENDS HERE\n",
    "        assert(parameters['W' + str(l)].shape == (layer_dims[l], layer_dims[l - 1]))\n",
    "        assert(parameters['b' + str(l)].shape == (layer_dims[l],1))\n",
    "    return parameters"
   ]
  },
  {
   "cell_type": "code",
   "execution_count": 15,
   "id": "ea479727-41f5-4afd-8594-1b2a8c8aec40",
   "metadata": {
    "tags": []
   },
   "outputs": [
    {
     "name": "stdout",
     "output_type": "stream",
     "text": [
      "Test Case 1 \n",
      "W1 = [[ 0.01788628  0.0043651   0.00096497 -0.01863493 -0.00277388]\n",
      " [-0.00354759 -0.00082741 -0.00627001 -0.00043818 -0.00477218]\n",
      " [-0.01313865  0.00884622  0.00881318  0.01709573  0.00050034]\n",
      " [-0.00404677 -0.0054536  -0.01546477  0.00982367 -0.01101068]]\n",
      "b1 = [[0.]\n",
      " [0.]\n",
      " [0.]\n",
      " [0.]]\n",
      "W2 = [[-0.01185047 -0.0020565   0.01486148  0.00236716]\n",
      " [-0.01023785 -0.00712993  0.00625245 -0.00160513]\n",
      " [-0.00768836 -0.00230031  0.00745056  0.01976111]]\n",
      "b2 = [[0.]\n",
      " [0.]\n",
      " [0.]]\n",
      "\u001b[92m All tests passed.\n"
     ]
    }
   ],
   "source": [
    "print(\"Test Case 1 \")\n",
    "parameters = initialize_parameters_deep([5,4,3])\n",
    "\n",
    "print(\"W1 = \" + str(parameters[\"W1\"]))\n",
    "print(\"b1 = \" + str(parameters[\"b1\"]))\n",
    "print(\"W2 = \" + str(parameters[\"W2\"]))\n",
    "print(\"b2 = \" + str(parameters[\"b2\"]))\n",
    "\n",
    "initialize_parameters_deep_test_1(initialize_parameters_deep)"
   ]
  },
  {
   "cell_type": "markdown",
   "id": "685e3361-8479-47c1-93d6-1f7d715aac75",
   "metadata": {},
   "source": [
    "### 4 - Forward Propagation Module\n",
    "\n",
    "#### 4.1 - Linear Forward\n",
    "Now that you have initialized your parameters, you can do the forward propagation modules. Start by implementing some basic functions that you can use again later when implementing the model. Now, you'll complete three functions in this order: \n",
    "- LINEAR \n",
    "- LINEAR -> ACTIVATION where ACTICATION will be either ReLU or Sigmoid\n",
    "- [LINEAR -> RELU] x (L-1) -> LINEAR -> SIGMOID (whole model)\n",
    "\n",
    "The linear forward module (vectorized over all the examples) computes the following equations:\n",
    "\n",
    "$$\n",
    "Z^{[l]} = W^{[l]}A^{[l]} + b^{[l]} \\tag{4}\n",
    "$$\n",
    "\n",
    "where $A^{[0]} = X$\n",
    "\n"
   ]
  },
  {
   "cell_type": "markdown",
   "id": "bc44f5a4-054e-4066-9ab2-874953acd19d",
   "metadata": {},
   "source": [
    "#### Exercise 3 - linear_forward\n",
    "\n",
    "Build the linear part of forward propagation.\n",
    " \n",
    "**Reminder** The mathematical representation of this unit is $Z^{[l]} = W^{[l]}A{[l-1]} + b^{[l]}. You may also find np.dot() useful. if your dimensions don't match. printing W.shpae may help.\n",
    "\n"
   ]
  },
  {
   "cell_type": "code",
   "execution_count": 20,
   "id": "65332010-0363-41e9-8efa-34eed9271c70",
   "metadata": {
    "tags": []
   },
   "outputs": [],
   "source": [
    "## GRADE FUNCTION: linear_forward \n",
    "def linear_forward(A, W, b):\n",
    "    \"\"\"\n",
    "    Implement the linear part of a layer's forward propagation. \n",
    "    Arguments:\n",
    "    A -- activations from previous layer (or input data): (size of previous layer, number of examples)\n",
    "    W -- weights matrix: numpy array of shape (size of current layer, size of previous layer)\n",
    "    b -- bias vector, numpy array of shape (size of the current layer, 1)\n",
    "    \n",
    "    Returns:\n",
    "    Z -- the input of the activation function, also called pre-activation parameter\n",
    "    cache -- a python tuple containing \"A\", \"W\" and \"b\"; stored for computing the backward pass efficiently. \n",
    "    \n",
    "    \"\"\"\n",
    "    ## YOUR CODE STARTS HERE\n",
    "    Z = np.dot(W, A) + b \n",
    "    \n",
    "    ## YOUR CODE ENDS HERE\n",
    "    \n",
    "    cache = (A, W, b)\n",
    "    \n",
    "    return Z, cache"
   ]
  },
  {
   "cell_type": "code",
   "execution_count": 28,
   "id": "328a0263-b0ce-4132-80ef-e71e338eb7cd",
   "metadata": {
    "tags": []
   },
   "outputs": [
    {
     "name": "stdout",
     "output_type": "stream",
     "text": [
      "Z = [[ 3.26295337 -1.23429987]]\n",
      "\u001b[92m All tests passed.\n"
     ]
    }
   ],
   "source": [
    "t_A, t_W, t_b = linear_forward_test_case()\n",
    "t_Z, t_linear_cache = linear_forward(t_A, t_W, t_b)\n",
    "print(\"Z = \" + str(t_Z))\n",
    "linear_forward_test(linear_forward)"
   ]
  },
  {
   "cell_type": "code",
   "execution_count": null,
   "id": "c8d67303-47ae-4dc2-adc8-b4f0d2a00080",
   "metadata": {},
   "outputs": [],
   "source": []
  },
  {
   "cell_type": "markdown",
   "id": "acd120dc-f586-4672-b601-3273790622bc",
   "metadata": {},
   "source": [
    "### 4.2 - Linear-Activation Forward\n",
    "\n",
    "In this notebook, you will use two activation functions:\n",
    "\n",
    "-  **Sigmoid**:  $\\sigma(Z) = \\sigma(W A + b) = \\frac{1}{1+ e^{-W A +b}}$. You've been provided with the `sigmoid` function which returns **two** items: the activation value `a` and a `cache` that contains `Z` (It's what we will feed in to the corresponding backword function). To use it you could just call:\n",
    "```python\n",
    "A, activation_cache = sigmoid(Z)\n",
    "\n",
    "````\n",
    "- **ReLU**: The mathematical formula for ReLu is $A = RELU(Z) = max(0, Z)$. You've been provided with the `relu` function. This function returns **two** items: the activation value `A` and a `cache` that contains `Z` (it's what you'll feed in to the corresponding backward function). To use it you could just call:\n",
    "\n",
    "``` python\n",
    "A, activation_cache = relu(Z)\n",
    "```\n",
    "\n",
    "For added convenience, you're going to group two functions into one function. Hence, you'll implement a function that does the LINEAR forward step followd by an ACTIVATION forward step.\n",
    "\n"
   ]
  },
  {
   "cell_type": "markdown",
   "id": "2bcfcb00-8e94-4345-ab3a-928267c7554f",
   "metadata": {},
   "source": [
    "#### Exercise 4 - Linear_activation_forward\n",
    "Implement the forward propagation of the *LINEAR -> ACTIVATION layer. "
   ]
  },
  {
   "cell_type": "code",
   "execution_count": 32,
   "id": "92303081-5575-42af-831d-f258d71afe23",
   "metadata": {
    "tags": []
   },
   "outputs": [],
   "source": [
    "## GRADE FUNCTION: linear_activation_forward\n",
    "def linear_activation_forward(A_prev, W, b, activation):\n",
    "    \"\"\"\n",
    "    Implement the forward propagation for the LINEAR->ACTIVATION layer\n",
    "\n",
    "    Arguments:\n",
    "    A_prev -- activations from previous layer (or input data): (size of previous layer, number of examples)\n",
    "    W -- weights matrix: numpy array of shape (size of current layer, size of previous layer)\n",
    "    b -- bias vector, numpy array of shape (size of the current layer, 1)\n",
    "    activation -- the activation to be used in this layer, stored as a text string: \"sigmoid\" or \"relu\"\n",
    "\n",
    "    Returns:\n",
    "    A -- the output of the activation function, also called the post-activation value \n",
    "    cache -- a python tuple containing \"linear_cache\" and \"activation_cache\";\n",
    "    \"\"\"\n",
    "    if activation == 'sigmoid':\n",
    "        #(≈ 2 lines of code)\n",
    "        # Z, linear_cache = ...\n",
    "        # A, activation_cache = ...\n",
    "        # YOUR CODE STARTS HERE\n",
    "\n",
    "        Z, linear_cache = linear_forward(A_prev, W, b)\n",
    "        A, activation_cache = sigmoid(Z)\n",
    "    \n",
    "    \n",
    "    # YOUR CODE ENDS HERE   \n",
    "    elif activation == 'relu':\n",
    "        \n",
    "        #(≈ 2 lines of code)\n",
    "        # Z, linear_cache = ...\n",
    "        # A, activation_cache = ...\n",
    "        # YOUR CODE STARTS HERE\n",
    "        Z, linear_cache = linear_forward(A_prev, W, b)\n",
    "        A, activation_cache = relu(Z)\n",
    "\n",
    "\n",
    "        # YOUR CODE ENDS HERE\n",
    "\n",
    "\n",
    "        \n",
    "    cache = (linear_cache, activation_cache)\n",
    "    \n",
    "    return A, cache\n",
    "    "
   ]
  },
  {
   "cell_type": "code",
   "execution_count": 34,
   "id": "80c39ae5-2af2-45f8-99dc-21f55bfa33ec",
   "metadata": {
    "tags": []
   },
   "outputs": [
    {
     "name": "stdout",
     "output_type": "stream",
     "text": [
      "With sigmoid: A = [[0.96890023 0.11013289]]\n",
      "With ReLU: A = [[3.43896131 0.        ]]\n",
      "\u001b[92m All tests passed.\n"
     ]
    }
   ],
   "source": [
    "t_A_prev, t_W, t_b = linear_activation_forward_test_case()\n",
    "\n",
    "t_A, t_linear_activation_cache = linear_activation_forward(t_A_prev, t_W, t_b, activation = \"sigmoid\")\n",
    "print(\"With sigmoid: A = \" + str(t_A))\n",
    "\n",
    "t_A, t_linear_activation_cache = linear_activation_forward(t_A_prev, t_W, t_b, activation = \"relu\")\n",
    "print(\"With ReLU: A = \" + str(t_A))\n",
    "\n",
    "linear_activation_forward_test(linear_activation_forward)"
   ]
  },
  {
   "cell_type": "code",
   "execution_count": 170,
   "id": "d1c716e4-f074-4da6-ab8f-5ddc8ee93915",
   "metadata": {},
   "outputs": [
    {
     "data": {
      "text/plain": [
       "((array([[-0.41675785, -0.05626683],\n",
       "         [-2.1361961 ,  1.64027081],\n",
       "         [-1.79343559, -0.84174737]]),\n",
       "  array([[ 0.50288142, -1.24528809, -1.05795222]]),\n",
       "  array([[-0.90900761]])),\n",
       " array([[ 3.43896131, -2.08938436]]))"
      ]
     },
     "execution_count": 170,
     "metadata": {},
     "output_type": "execute_result"
    }
   ],
   "source": [
    "t_linear_activation_cache"
   ]
  },
  {
   "cell_type": "markdown",
   "id": "81314403-cec0-4b6c-bb53-b869415703c2",
   "metadata": {},
   "source": [
    "**Note**: In deep learning, the \"LINEAR -> ACTIVATION\" computation is counted as a single layer in the neural network, not two layers. "
   ]
  },
  {
   "cell_type": "code",
   "execution_count": null,
   "id": "e7ab747f-1eae-4a3b-bf49-8aa718c5d400",
   "metadata": {},
   "outputs": [],
   "source": []
  },
  {
   "cell_type": "markdown",
   "id": "3532bf16-6c44-4028-9cff-839d70f6459c",
   "metadata": {},
   "source": [
    "### 4.3 - L-Layer Model\n",
    "\n",
    "For even more convenience when implementing the L-layer Neural Net, you will need a function that replicates one (linear_activation_forward with RELU) L-1 times, then follows that with one linear_activation_forward with sigmoid. \n",
    "\n",
    "\n",
    "### Exercise 5 - L_model_forward\n",
    "**Instructions**: In the code below, the variable `AL` will denote $A^{[L]} = \\sigma(Z^{[L]}) = \\sigma(W^{[L]} A^{[L-1]} + b^{[L]})$. (This is sometimes also called `Yhat`, i.e., this is $\\hat{Y}$.) \n",
    "\n",
    "**Hints**:\n",
    "- Use the functions you've previously written\n",
    "- Use for loop to replicate [LINEAR->RELU] (L-1) times\n",
    "- Don't forget to keep track of the caches in the \"caches\" list. TO ad a new value c to a list , you can use list.append(c)\n"
   ]
  },
  {
   "cell_type": "code",
   "execution_count": 91,
   "id": "72469360-a21a-40a2-bdbb-e08fc0cb0cc1",
   "metadata": {
    "tags": []
   },
   "outputs": [],
   "source": [
    "## GRADE FUNCTION: L_model_forward\n",
    "def L_model_forward(X, parameters):\n",
    "    \"\"\"\n",
    "    Implement forward propagation for the [LINEAR->RELU]*(L-1)->LINEAR->SIGMOID computation\n",
    "    \n",
    "    Arguments:\n",
    "    X -- data, numpy array of shape (input size, number of examples)\n",
    "    parameters -- output of initialize_parameters_deep()\n",
    "    \n",
    "    Returns:\n",
    "    AL -- activation value from the output (last) layer\n",
    "    caches -- list of caches containing:\n",
    "                every cache of linear_activation_forward() (there are L of them, indexed from 0 to L-1)\n",
    "    \"\"\"\n",
    "    caches = []\n",
    "    A = X\n",
    "    L = len(parameters) // 2\n",
    "    \n",
    "    ## Implement LINEAR -> RELU  * (L-1). Add cache to the caches list\n",
    "    ## The for loop starts at 1 beacuse layer 0 is the input\n",
    "    for l in range(1, L ):\n",
    "        A_prev = A\n",
    "        \n",
    "        #(≈ 2 lines of code)\n",
    "        # A, cache = ...\n",
    "        # caches ...\n",
    "        # YOUR CODE STARTS HERE\n",
    "        A, cache = linear_activation_forward(A_prev, parameters['W' + str(l)], parameters['b' + str(l)], 'relu')\n",
    "        caches.append(cache)\n",
    "        A_prev = A\n",
    "        # YOUR CODE ENDS HERE\n",
    "    \n",
    "    \n",
    "    # Implement LINEAR -> SIGMOID. Add \"cache\" to the \"caches\" list.\n",
    "    #(≈ 2 lines of code)\n",
    "    # AL, cache = ...\n",
    "    # caches ...\n",
    "    # YOUR CODE STARTS HERE\n",
    "    AL, cache = linear_activation_forward(A_prev, parameters['W' + str(L)], parameters['b' + str(L)], 'sigmoid')\n",
    "    caches.append(cache)\n",
    "    \n",
    "    # YOUR CODE ENDS HERE\n",
    "          \n",
    "    return AL, caches\n",
    "    "
   ]
  },
  {
   "cell_type": "code",
   "execution_count": 93,
   "id": "2d1bbffb-3c7e-4339-8d48-f22a5c4abdc9",
   "metadata": {
    "tags": []
   },
   "outputs": [
    {
     "name": "stdout",
     "output_type": "stream",
     "text": [
      "AL =  [[0.03921668 0.70498921 0.19734387 0.04728177]]\n",
      "\u001b[92m All tests passed.\n"
     ]
    }
   ],
   "source": [
    "t_X, t_parameters = L_model_forward_test_case_2hidden()\n",
    "t_AL, t_caches = L_model_forward(t_X, t_parameters)\n",
    "\n",
    "print(\"AL = \", str(t_AL))\n",
    "\n",
    "L_model_forward_test(L_model_forward)"
   ]
  },
  {
   "cell_type": "markdown",
   "id": "50dfa136-f091-4bc1-8b52-8848b89bc452",
   "metadata": {
    "tags": []
   },
   "source": [
    "**Awesome!** You've implememted a full forward propagation that takes the input X and outputs a row vector $A^{[L]}$ containing your predictions. It also records all intermediate values in \"`caches`\". Using $A^{[L]}$, you can compute the cost of your predictions."
   ]
  },
  {
   "cell_type": "code",
   "execution_count": null,
   "id": "48a17517-8b8d-4c58-be51-908b01d1167d",
   "metadata": {},
   "outputs": [],
   "source": []
  },
  {
   "cell_type": "markdown",
   "id": "80a501b0-f458-4c41-b4a8-d2e2c5f3d6a4",
   "metadata": {},
   "source": [
    "## 5- Cost Function\n",
    "Now you can implement forward and backword propagation! You need to compute the cost, in order to check whether your model is actually learning.  \n",
    "\n",
    "#### Exercise 6- compute_cost\n",
    "\n",
    "Compute the cross-entropy cost $J$, using the following formula: \n",
    "$$-\\frac{1}{m} \\sum\\limits_{i=1}^{m}(y^{(i)}\\log\\left(a^{[L] (i)}\\right) + (1-y^{(i)})\\log\\left(1- a^{[L](i)}\\right)) \\tag{7}$$"
   ]
  },
  {
   "cell_type": "code",
   "execution_count": 128,
   "id": "11577351-31a1-4e90-afa8-7a24d6a69655",
   "metadata": {},
   "outputs": [],
   "source": [
    "## GRADE FUNCTION: compute_lost\n",
    "def compute_cost(AL, Y):\n",
    "    \"\"\"\n",
    "    Implement the cost function defined by equation (7)\n",
    "    Arguments:\n",
    "    AL -- probability vector conresponding to your label predictions.  shape (1, number of  examples)\n",
    "    Y -- true \"label\" vector. shape (1, number of examples)\n",
    "\n",
    "    Returns:\n",
    "    cost -- cross-entropy cost\n",
    "    \"\"\"\n",
    "    m = Y.shape[1]\n",
    "    ## YOUR CODE STARTS HERE\n",
    "    \n",
    "    cost = - np.sum(np.dot(Y, np.log(AL.T)) + np.dot((1-Y), np.log(1-AL.T))) / m\n",
    "    ## YOUR CODE END HERE\n",
    "    cost = np.squeeze(cost)\n",
    "\n",
    "    return cost"
   ]
  },
  {
   "cell_type": "code",
   "execution_count": 130,
   "id": "59fd63e9-45a8-4f24-b218-5c3834c92c66",
   "metadata": {},
   "outputs": [
    {
     "name": "stdout",
     "output_type": "stream",
     "text": [
      "Cost: 0.2797765635793423\n",
      "\u001b[92m All tests passed.\n"
     ]
    }
   ],
   "source": [
    "t_Y, t_AL = compute_cost_test_case()\n",
    "t_cost = compute_cost(t_AL, t_Y)\n",
    "\n",
    "print(\"Cost: \" + str(t_cost))\n",
    "\n",
    "compute_cost_test(compute_cost)"
   ]
  },
  {
   "cell_type": "code",
   "execution_count": null,
   "id": "aea147f2-09e7-4f18-9e5e-f6b6a253211b",
   "metadata": {},
   "outputs": [],
   "source": []
  },
  {
   "cell_type": "markdown",
   "id": "cc2b415a-e2eb-401e-b411-5f8db369da25",
   "metadata": {},
   "source": [
    "## 6 - Backward Propagation Module\n",
    "\n",
    "Just as you did for the forward propagation, you'll  implement helper functions for back progation. Remember that backpropagation is used to calculate the gradient of the loss function with respect to the parameters. \n",
    "\n",
    "**Reminder**\n",
    "Now, similarly to forward propagation, you're going to build the backward propagation in three steps:\n",
    "1. LINEAR backward\n",
    "2. LINEAR -> ACTICATION backward where ACTIVATION computes the derivative of either the ReLU or sigmoid activation\n",
    "3. [LINEAR -> RELU ] * (L-1) -> LINEAR -> SIGMOID backward.\n",
    "   "
   ]
  },
  {
   "cell_type": "markdown",
   "id": "1c0c65d4-1d69-4f18-a0b1-a7ad99a9b561",
   "metadata": {},
   "source": [
    "For the next exercise, you will need to remember that:\n",
    "1. b is matrix with 1 column and n rows\n",
    "2. np.sum performs a sum over the elements of a ndarray\n",
    "3. axis=1 or axis=0 specify if the sum is carried out by rows or by columns respectively\n",
    "4. keepdims specifies if the original dimensions of the matrix must be kept\n",
    "5. Look at the following example to clarify:\n",
    "   "
   ]
  },
  {
   "cell_type": "code",
   "execution_count": 140,
   "id": "c60665dd-c6f0-441f-b5c6-443b65138c13",
   "metadata": {},
   "outputs": [
    {
     "name": "stdout",
     "output_type": "stream",
     "text": [
      "axis=1 and keepdims=True\n",
      "[[3]\n",
      " [7]]\n",
      "axis=1 and keepdims=False\n",
      "[3 7]\n",
      "axis=0 and keepdims=True\n",
      "[[4 6]]\n",
      "axis=0 and keepdims=False\n",
      "[4 6]\n"
     ]
    }
   ],
   "source": [
    "A = np.array([[1,2],[3,4]])\n",
    "\n",
    "print('axis=1 and keepdims=True')\n",
    "print(np.sum(A, axis=1, keepdims=True))\n",
    "\n",
    "print('axis=1 and keepdims=False')\n",
    "print(np.sum(A, axis=1, keepdims=False))\n",
    "\n",
    "print('axis=0 and keepdims=True')\n",
    "print(np.sum(A, axis=0, keepdims=True))\n",
    "\n",
    "print('axis=0 and keepdims=False')\n",
    "print(np.sum(A, axis=0, keepdims=False))\n",
    "\n"
   ]
  },
  {
   "cell_type": "markdown",
   "id": "28afd4d9-deaf-4f8b-9ae9-b25e2786a5d7",
   "metadata": {},
   "source": [
    "## 6.1 - Linear Backward\n",
    "\n",
    "For layer $l$, the linear part is: $Z^{[l]} = W^{[l]} A^{[l-1]} + b^{[l]} $ (followed by an activation)\n",
    "\n",
    "Suppose you have already calculated the derivative $dZ^{[l]} = \\frac{\\partial \\mathcal{L}}{\\partial Z^{[l]}}$. You want to get $(dW^{[l]}, db^{[l]}, dA^{[l-1]})$.\n",
    "\r\n",
    "The three outputs $(dW^{[l]}, db^{[l]}, dA^{[l-1]})$ are computed using the input $dZ^{[l]}$.\n",
    "\r\n",
    "Here are the formulas you need:\r\n",
    "$$ dW^{[l]} = \\frac{\\partial \\mathcal{J} }{\\partial W^{[l]}} = \\frac{1}{m} dZ^{[l]} A^{[l-1] T} \\tag{8}$$\r\n",
    "$$ db^{[l]} = \\frac{\\partial \\mathcal{J} }{\\partial b^{[l]}} = \\frac{1}{m} \\sum_{i = 1}^{m} dZ^{[l](i)}\\tag{9}$$\r\n",
    "$$ dA^{[l-1]} = \\frac{\\partial \\mathcal{L} }{\\partial A^{[l-1]}} = W^{[l] T} dZ^{[l]} \\tag{10}$$\r\n",
    "\r\n",
    "\r\n",
    "$A^{[l-1] T}$ is the transpose of $A^{[l-1]}$. \n",
    "\r\n"
   ]
  },
  {
   "cell_type": "markdown",
   "id": "af3b35e8-ed71-4318-a538-935dc06752dc",
   "metadata": {},
   "source": [
    "### Exercise 7 - liner_backward\n",
    "\n",
    "Use the 3 formulas above to implement linear_backward()"
   ]
  },
  {
   "cell_type": "code",
   "execution_count": 184,
   "id": "b3c49852-a187-4fa9-81c1-c38257d0a7ee",
   "metadata": {},
   "outputs": [],
   "source": [
    "## GRADE FUNCTION: linear_backward()\n",
    "def linear_backward(dZ, cache):\n",
    "    \"\"\"\n",
    "    Implement the linear portion of backward propagation for a single layer (layer l)\n",
    "\n",
    "    Arguments:\n",
    "    dZ - Gradient of the cost with respect to the linear output ( of current layer l)\n",
    "    cache -- tuple of value (A_prev, W, b) coming from the forward propagation in the current layer\n",
    "\n",
    "    Returns:\n",
    "    dA_prev -- Gradient of the cost with respect to the activation (of the previous layer l-1), same shape as A_prev\n",
    "    dW -- Gradient of the cost with respect to W ( current layer l), same shape as W\n",
    "    db -- Gradient of the cost with respect to b (current layer l), same shape as b\n",
    "    \"\"\"\n",
    "    A_prev, W, b = cache\n",
    "    m = A_prev.shape[1]\n",
    "\n",
    "    ### START CODE HERE ### \n",
    "    ## YOUR CODE STARTS HERE\n",
    "    dW = np.dot(dZ, A_prev.T) / m\n",
    "    db = np.sum(dZ, axis=1, keepdims=True) / m\n",
    "    dA_prev = np.dot(W.T, dZ)\n",
    "    \n",
    "    ## YOUR CODE ENDS HERE\n",
    "    \n",
    "    return dA_prev, dW, db\n",
    "\n",
    "\n",
    "    "
   ]
  },
  {
   "cell_type": "code",
   "execution_count": 196,
   "id": "fc9c30bb-662d-41bc-8df0-b4e4af8dcfc4",
   "metadata": {},
   "outputs": [
    {
     "name": "stdout",
     "output_type": "stream",
     "text": [
      "dA_prev: [[-1.15171336  0.06718465 -0.3204696   2.09812712]\n",
      " [ 0.60345879 -3.72508701  5.81700741 -3.84326836]\n",
      " [-0.4319552  -1.30987417  1.72354705  0.05070578]\n",
      " [-0.38981415  0.60811244 -1.25938424  1.47191593]\n",
      " [-2.52214926  2.67882552 -0.67947465  1.48119548]]\n",
      "dW: [[ 0.07313866 -0.0976715  -0.87585828  0.73763362  0.00785716]\n",
      " [ 0.85508818  0.37530413 -0.59912655  0.71278189 -0.58931808]\n",
      " [ 0.97913304 -0.24376494 -0.08839671  0.55151192 -0.10290907]]\n",
      "db: [[-0.14713786]\n",
      " [-0.11313155]\n",
      " [-0.13209101]]\n",
      "\u001b[92m All tests passed.\n"
     ]
    }
   ],
   "source": [
    "t_dZ, t_linear_cache = linear_backward_test_case()\n",
    "\n",
    "t_dA_prev, t_dW, t_db = linear_backward(t_dZ, t_linear_cache)\n",
    "\n",
    "print(\"dA_prev: \" + str(t_dA_prev))\n",
    "print(\"dW: \" + str(t_dW))\n",
    "print(\"db: \" + str(t_db))\n",
    "\n",
    "linear_backward_test(linear_backward)"
   ]
  },
  {
   "cell_type": "markdown",
   "id": "30a0f97d-1587-4e88-8d47-68744f86e990",
   "metadata": {},
   "source": [
    "## 6.2 - Linear-Activation Backward\n",
    "\n",
    "Next, you will create a function that merges the two helpers functions: linear_backward and the backward step for the activation linear_activation_backward.\n",
    "\n",
    "To help you implement linear_activatioin_back, two backward functions have been provided. \n",
    "\n",
    "- **`sigmoid_backward`**: Implements the backward propagation for SIGMOID unit. You can call it as follows:\r\n",
    "\r\n",
    "```python\r\n",
    "dZ = sigmoid_backward(dA, activation_cache)\r\n",
    "```\r\n",
    "\r\n",
    "- **`relu_backward`**: Implements the backward propagation for RELU unit. You can call it as follows:\r\n",
    "\r\n",
    "```python\r\n",
    "dZ = relu_backward(dA, activation_cache)\r\n",
    "```\r\n",
    "\r\n",
    "If $g(.)$ is the activation function, \r\n",
    "`sigmoid_backward` and `relu_backward` compute $$dZ^{[l]} = dA^{[l]} * g'(Z^{[l]}). \\tag{11}$$  \r\n",
    "\r\n",
    "<a name='ex-8'></a>\r\n",
    "### Exercise 8 -  linear_activation_backward\r\n",
    "\r\n",
    "Implement the backpropagation for the *LINEAR->ACTIVATION* layer."
   ]
  },
  {
   "cell_type": "code",
   "execution_count": 208,
   "id": "7c1ba971-63b4-4709-8919-31e1cf212e85",
   "metadata": {},
   "outputs": [],
   "source": [
    "## GRADE FUNCTION: linear_activation_backward\n",
    "\n",
    "def linear_activation_backward(dA, cache, activation):\n",
    "    \"\"\"\n",
    "    Implement the backward propagation for the LINEAR -> ACTIVATION layer. \n",
    "\n",
    "    Arguments:\n",
    "    dA -- post-activation gradient for current layer l\n",
    "    cache -- tuple of values (linear_cache, activation_cache) we store for computing backward propagation efficiently.\n",
    "    activation -- the activation to be used in this layer, stored as text string: 'sigmoid' or 'relu'\n",
    "\n",
    "    Returns:\n",
    "    dA_prev --  Gradient of the cost with respect to the activation (of the previous layer l-1), same shape as A_prev\n",
    "    dW -- Gradient of the cost with respect to W, \n",
    "    db -- Gradient of the cost with respect to b\n",
    "    \"\"\"\n",
    "\n",
    "    linear_cache, activation_cache = cache\n",
    "\n",
    "    if activation == 'relu':\n",
    "        ## YOUR CODE STARTS HERE\n",
    "        dZ = relu_backward(dA, activation_cache)\n",
    "        dA_prev, dW, db =  linear_backward(dZ, linear_cache)\n",
    "        ## YOUR CODE ENDS HERE\n",
    "    elif activation == 'sigmoid':\n",
    "        dZ = sigmoid_backward(dA, activation_cache)\n",
    "        dA_prev, dW, db =  linear_backward(dZ, linear_cache)\n",
    "\n",
    "    return dA_prev, dW, db"
   ]
  },
  {
   "cell_type": "code",
   "execution_count": 210,
   "id": "aedc6f79-2a27-4b8c-8974-f9185d575737",
   "metadata": {},
   "outputs": [
    {
     "name": "stdout",
     "output_type": "stream",
     "text": [
      "With sigmoid: dA_prev = [[ 0.11017994  0.01105339]\n",
      " [ 0.09466817  0.00949723]\n",
      " [-0.05743092 -0.00576154]]\n",
      "With sigmoid: dW = [[ 0.10266786  0.09778551 -0.01968084]]\n",
      "With sigmoid: db = [[-0.05729622]]\n",
      "With relu: dA_prev = [[ 0.44090989 -0.        ]\n",
      " [ 0.37883606 -0.        ]\n",
      " [-0.2298228   0.        ]]\n",
      "With relu: dW = [[ 0.44513824  0.37371418 -0.10478989]]\n",
      "With relu: db = [[-0.20837892]]\n",
      "\u001b[92m All tests passed.\n"
     ]
    }
   ],
   "source": [
    "t_dAL, t_linear_activation_cache = linear_activation_backward_test_case()\n",
    "\n",
    "t_dA_prev, t_dW, t_db = linear_activation_backward(t_dAL, t_linear_activation_cache, activation = \"sigmoid\")\n",
    "print(\"With sigmoid: dA_prev = \" + str(t_dA_prev))\n",
    "print(\"With sigmoid: dW = \" + str(t_dW))\n",
    "print(\"With sigmoid: db = \" + str(t_db))\n",
    "\n",
    "t_dA_prev, t_dW, t_db = linear_activation_backward(t_dAL, t_linear_activation_cache, activation = \"relu\")\n",
    "print(\"With relu: dA_prev = \" + str(t_dA_prev))\n",
    "print(\"With relu: dW = \" + str(t_dW))\n",
    "print(\"With relu: db = \" + str(t_db))\n",
    "\n",
    "linear_activation_backward_test(linear_activation_backward)"
   ]
  },
  {
   "cell_type": "markdown",
   "id": "b0b25c92-7def-4fbb-b666-9567daba5bba",
   "metadata": {},
   "source": [
    "<a name='6-3'></a>\r\n",
    "### 6.3 - L-Model Backward \r\n",
    "\r\n",
    "Now you will implement the backward function for the whole network! \r\n",
    "\r\n",
    "Recall that when you implemented the `L_model_forward` function, at each iteration, you stored a cache which contains (X,W,b, and z). In the back propagation module, you'll use those variables to compute the gradients. Therefore, in the `L_model_backward` function, you'll iterate through all the hidden layers backward, starting from layer $L$. On each step, you will use the cached values for layer $l$ to backpropagate through layer $l$. Figure 5 below shows the backward pass. \r\n",
    "\r\n",
    "\r\n",
    "<img src=\"images/mn_backward.png\" style=\"width:450px;height:300px;\">\r\n",
    "<caption><center><font color='purple'><b>Figure 5</b>: Backward pass</font></center></caption>\r\n",
    "\r\n",
    "**Initializing backpropagation**:\r\n",
    "\r\n",
    "To backpropagate through this network, you know that the output is: \r\n",
    "$A^{[L]} = \\sigma(Z^{[L]})$. Your code thus needs to compute `dAL` $= \\frac{\\partial \\mathcal{L}}{\\partial A^{[L]}}$.\r\n",
    "To do so, use this formula (derived using calculus which, again, you don't need in-depth knowledge of!):\r\n",
    "```python\r\n",
    "dAL = - (np.divide(Y, AL) - np.divide(1 - Y, 1 - AL)) # derivative of cost with respect to AL\r\n",
    "```\r\n",
    "\r\n",
    "You can then use this post-activation gradient `dAL` to keep going backward. As seen in Figure 5, you can now feed in `dAL` into the LINEAR->SIGMOID backward function you implemented (which will use the cached values stored by the L_model_forward function). \r\n",
    "\r\n",
    "After that, you will have to use a `for` loop to iterate through all the other layers using the LINEAR->RELU backward function. You should store each dA, dW, and db in the grads dictionary. To do so, use this formula : \r\n",
    "\r\n",
    "$$grads[\"dW\" + str(l)] = dW^{[l]}\\tag{15} $$\r\n",
    "\r\n",
    "For example, for $l=3$ this would store $dW^{[l]}$ in `grads[\"dW3\"]`.\r\n",
    "\r\n",
    "<a name='ex-9'></a>\r\n",
    "### Exercise 9 -  L_model_backward\r\n",
    "\r\n",
    "Implement backpropagation for the *[LINEAR->RELU] $\\times$ (L-1) -> LINEAR -> SIGMOID* model."
   ]
  },
  {
   "cell_type": "code",
   "execution_count": null,
   "id": "96b66c66-4854-4cf7-8bea-fd3a75153437",
   "metadata": {},
   "outputs": [],
   "source": [
    "## GRADE FUNCTION: L_model_backward\n",
    "\n",
    "def L_model_backward(AL,  Y, caches):\n",
    "    "
   ]
  }
 ],
 "metadata": {
  "kernelspec": {
   "display_name": "Python 3 (ipykernel)",
   "language": "python",
   "name": "python3"
  },
  "language_info": {
   "codemirror_mode": {
    "name": "ipython",
    "version": 3
   },
   "file_extension": ".py",
   "mimetype": "text/x-python",
   "name": "python",
   "nbconvert_exporter": "python",
   "pygments_lexer": "ipython3",
   "version": "3.11.7"
  }
 },
 "nbformat": 4,
 "nbformat_minor": 5
}
