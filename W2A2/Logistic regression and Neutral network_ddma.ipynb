{
 "cells": [
  {
   "cell_type": "markdown",
   "id": "39c90465-cb73-4116-9641-d2f28c954607",
   "metadata": {
    "tags": []
   },
   "source": [
    "# Logistic Regression with a neutral network mindset\n",
    "\n",
    "Welcome to hour first(reqiured) programming assignment! you will build a logistic regression classifier to recognize cats. This assignment will step you through how to do this with a Neutral network mindset, and will also hone your intuitions about deep learning. \n",
    "\n",
    "* you will learn to: *\n",
    "- Build the general architechture of a learning algorithm, including: \n",
    "    - Initializing the cost function and its gradient\n",
    "    - Calculating the cost functionand its gradient \n",
    "    - Using an optimization algorithm (gradient descent)\n",
    "- Gather all three functions above into a main model function, in the right order.  "
   ]
  },
  {
   "cell_type": "markdown",
   "id": "d6163d26-f533-4d51-8e02-90a943f88fa7",
   "metadata": {},
   "source": [
    "## Step1,  Packages\n",
    "\n",
    "First, let's run the cell below to import all the packages that you will need during this assgiment\n",
    "1. numpy: is the fundamental package for scientific computing with Python \n",
    "2. h5py: is a common package to interact with a dataset that is stored on an H5 file.  \n",
    "3. matplotlib: is a famous library to plot graphs in python\n",
    "4. PIL and scipy:  are used here to test your model with your own picture at the end.  "
   ]
  },
  {
   "cell_type": "code",
   "execution_count": 1,
   "id": "06a610a5-f253-40cd-a075-facc2da02bf0",
   "metadata": {
    "tags": []
   },
   "outputs": [],
   "source": [
    "import numpy as np\n",
    "import copy\n",
    "import matplotlib.pyplot as plt\n",
    "import h5py\n",
    "import scipy\n",
    "from PIL import Image\n",
    "from scipy import ndimage\n",
    "from lr_utils import load_dataset\n",
    "from public_tests import *\n",
    "\n",
    "%matplotlib inline \n",
    "%load_ext autoreload\n",
    "%autoreload 2"
   ]
  },
  {
   "cell_type": "markdown",
   "id": "326d01d7-aa8f-4541-b80b-865af0b00cde",
   "metadata": {},
   "source": [
    "## Step2 - Overview of the Problem set\n",
    "\n",
    "Problem Statement: \n",
    "1. We added '_orig' at the end of image datasets (train and test) because we are going to preprocess them. After preprocessing, we will end up with train_set_x and test_set_x\n",
    "2. Each line of your train_set_x and test_set_x is an array representing an image. You can visulize an example by runing the follow code. \n",
    "3. Many software bugs in deep learning come from having matrix/vector dimensions that don't fit.  If you can keep your matrix/vector dimensions straight you will go a long way toward eliminating many bugs. \n",
    "4. Here you must know numpy.squeeze() which is used to "
   ]
  },
  {
   "cell_type": "code",
   "execution_count": 8,
   "id": "c45537cc-6e19-4d6b-a0f9-c821718fc7b1",
   "metadata": {
    "tags": []
   },
   "outputs": [],
   "source": [
    "###  Loading the data (cat/non-cat)\n",
    "train_set_x_orig, train_set_y, test_set_x_orig, test_set_y, classes = load_dataset()"
   ]
  },
  {
   "cell_type": "code",
   "execution_count": 15,
   "id": "a890c673-34c1-4c3f-b47e-5a8792990bcc",
   "metadata": {
    "tags": []
   },
   "outputs": [
    {
     "name": "stdout",
     "output_type": "stream",
     "text": [
      "y = [1], it's a 'cat' picture.\n"
     ]
    },
    {
     "data": {
      "image/png": "[encoded data removed]",
      "text/plain": [
       "<Figure size 640x480 with 1 Axes>"
      ]
     },
     "metadata": {},
     "output_type": "display_data"
    }
   ],
   "source": [
    "index = 24\n",
    "plt.imshow(train_set_x_orig[index])\n",
    "print (\"y = \" + str(train_set_y[:, index]) + \", it's a '\" + classes[np.squeeze(train_set_y[:, index])].decode(\"utf-8\") +  \"' picture.\")"
   ]
  },
  {
   "cell_type": "markdown",
   "id": "7d282999-14a7-4c5a-b63d-2bb30f97de19",
   "metadata": {},
   "source": [
    "## Exercise1\n",
    "\n",
    "Find the values for: - m_train (number of training examples) - m_test (number of test examples) -num_px (=height=weight of a training image) Remember that train_set_x_orig is a numbpy-array of shape (m_train, num_px, num_px, 3). "
   ]
  },
  {
   "cell_type": "code",
   "execution_count": 45,
   "id": "cbf2e728-15ca-444e-b796-7aa3ff8d4d14",
   "metadata": {
    "tags": []
   },
   "outputs": [
    {
     "name": "stdout",
     "output_type": "stream",
     "text": [
      "Number of training examples: m_train = 209\n",
      "Number of testing examples: m_test = 50\n",
      "Height/Width of each image: num_px = 64\n",
      "Each image is of size: (64, 64, 3)\n",
      "train_set_x shape: (209, 64, 64, 3)\n",
      "train_set_y shape: (1, 209)\n",
      "test_set_x shape: (50, 64, 64, 3)\n",
      "test_set_y shape: (1, 50)\n"
     ]
    }
   ],
   "source": [
    "m_train = train_set_x_orig.shape[0]\n",
    "m_test = test_set_x_orig.shape[0]\n",
    "num_px = train_set_x_orig.shape[1]\n",
    "\n",
    "\n",
    "print (\"Number of training examples: m_train = \" + str(m_train))\n",
    "print (\"Number of testing examples: m_test = \" + str(m_test))\n",
    "print (\"Height/Width of each image: num_px = \" + str(num_px))\n",
    "print (\"Each image is of size: (\" + str(num_px) + \", \" + str(num_px) + \", 3)\")\n",
    "print (\"train_set_x shape: \" + str(train_set_x_orig.shape))\n",
    "print (\"train_set_y shape: \" + str(train_set_y.shape))\n",
    "print (\"test_set_x shape: \" + str(test_set_x_orig.shape))\n",
    "print (\"test_set_y shape: \" + str(test_set_y.shape))"
   ]
  },
  {
   "cell_type": "markdown",
   "id": "fd23ef86-11d0-4f79-9e06-f142710a4dbb",
   "metadata": {},
   "source": [
    "For convenience, you should now reshape images of shape (num_px, num_px, 3) in a numpy-arrary of shape (num_px * numpy*3, 1).After this, our training and test dateset is a numpy-arrary where each column represents a flattened image.  There should be m_train (respectively m_test) columns. \n"
   ]
  },
  {
   "cell_type": "markdown",
   "id": "d00518db-be58-40b1-8830-f328da29ffa6",
   "metadata": {},
   "source": [
    "## Exercise 2\n",
    "\n",
    "Reshape the training and test data sets so that images of size (num_px, num_px, 3) are flattened into single vectors of shape (num_px * num_px * 3). \n",
    "\n",
    "A trick when you want to flattened a matrix X of (a, b, c, d) to a matrix X_flatten of shape (b$c$d, a) is to use:\n",
    "X_flatten = X.reshape(X.shape[0], -1).T\n"
   ]
  },
  {
   "cell_type": "code",
   "execution_count": 51,
   "id": "63dc56bf-df8b-4141-8e17-e9bbad391b5d",
   "metadata": {
    "tags": []
   },
   "outputs": [],
   "source": [
    "train_set_x_flatten = train_set_x_orig.reshape(train_set_x_orig.shape[0], -1).T\n",
    "test_set_x_flatten = test_set_x_orig.reshape(test_set_x_orig.shape[0],-1).T\n",
    "\n",
    "             "
   ]
  },
  {
   "cell_type": "code",
   "execution_count": 55,
   "id": "ea2e546f-6157-43b2-88f6-55e3a6b089a9",
   "metadata": {
    "tags": []
   },
   "outputs": [
    {
     "data": {
      "text/plain": [
       "array([196, 192, 190, 193, 186, 182, 188, 179, 174, 213], dtype=uint8)"
      ]
     },
     "execution_count": 55,
     "metadata": {},
     "output_type": "execute_result"
    }
   ],
   "source": [
    "train_set_x_flatten[0:10, 1]"
   ]
  },
  {
   "cell_type": "code",
   "execution_count": 56,
   "id": "1e2a2898-4186-4c27-9ee7-7291ab6fcb0f",
   "metadata": {
    "tags": []
   },
   "outputs": [
    {
     "name": "stdout",
     "output_type": "stream",
     "text": [
      "train_set_x_flatten shape: (12288, 209)\n",
      "train_set_y shape: (1, 209)\n",
      "test_set_x_flatten shape: (12288, 50)\n",
      "test_set_y shape: (1, 50)\n"
     ]
    }
   ],
   "source": [
    "\n",
    "## CHECK that the first 10 pixels of the second image are in the correct place\n",
    "assert np.alltrue(train_set_x_flatten[0:10,1] == [196, 192, 190, 193, 186, 182, 188, 179, 174, 213])\n",
    "assert np.alltrue(test_set_x_flatten[0:10, 1] == [115, 110, 111, 137, 129, 129, 155, 146, 145, 159])\n",
    "\n",
    "print(f'train_set_x_flatten shape: {str(train_set_x_flatten.shape)}')\n",
    "print(f'train_set_y shape: {str(train_set_y.shape)}')\n",
    "print(f'test_set_x_flatten shape: {str(test_set_x_flatten.shape)}')\n",
    "print(f'test_set_y shape: {str(test_set_y.shape)}')\n"
   ]
  },
  {
   "cell_type": "markdown",
   "id": "a6af94fe-14a0-4d28-8f49-30e432ab9ec4",
   "metadata": {},
   "source": [
    "To represent color image,  the red, green and blue channels must be specified for each pixel, so the pixel value is  a vector of three numbers ranging from 0-255. \n",
    "\n",
    "One common preprosessing step in machine learning is to center and standardize your dataset, meaning that you substract the mean of the whole numpy arrary from each example., and then devide each example by the standard deviation of the whole numpy array.  But for picture datasets, it is simpler and more convenient and works almost as well to just divide every row of the dataset by 255.  "
   ]
  },
  {
   "cell_type": "code",
   "execution_count": 57,
   "id": "8c3a9d52-d9e4-4af1-9c60-98fa24868005",
   "metadata": {
    "tags": []
   },
   "outputs": [],
   "source": [
    "### standardize ours dataset\n",
    "train_set = train_set_x_flatten / 255\n",
    "test_set = test_set_x_flatten / 255\n"
   ]
  },
  {
   "cell_type": "markdown",
   "id": "d50fa91f-d518-436c-b4c9-3598c4977475",
   "metadata": {},
   "source": [
    "<font color='blue'>\n",
    "    \n",
    "**what you need to remember**\n",
    "    \n",
    "Common steps for pre-processing a new dataset are:\n",
    "- Figure out the dimensions and shapes of the problem\n",
    "- Reshape the datasets such that each example is now a vector of size\n",
    "- \"Standardize\" the data"
   ]
  },
  {
   "cell_type": "markdown",
   "id": "9fdf452e-d6d9-4c38-9782-646410d034d7",
   "metadata": {},
   "source": [
    "## Step3 - General Architechture of the learning algorithm\n",
    "\n",
    "It's time to design a simple algorithm to distinguish cat image from non-cat images. \n",
    "\n",
    "You will build a logistic Regression, using a neutral network mindset.  The following Figure explains why **logistic Regression is actually a very simple Neutral Network**\n",
    "\n",
    "<font color='blue'>\n",
    "PLEASE UNDERSTAND THE ALGORITHEM CLEARLY\n",
    "\n",
    "**Key steps**: In this exercise, you will carry out the following steps: \n",
    "- Initialize the parameter of the model\n",
    "- Learn the parameters for the model by minimizing the cost\n",
    "- User the learned parameter to make prediction \n",
    "- Analyse the result and conclude"
   ]
  },
  {
   "cell_type": "markdown",
   "id": "631cbcdf-724f-4f93-a978-30c15f170a8f",
   "metadata": {},
   "source": [
    "## Step4: Building the parts of our algorithm\n",
    "\n",
    "The main steps for building a Neutral Network are:  \n",
    "1. Define the model struture ( such as number of input features)\n",
    "2. Initialize the model's parameters\n",
    "3. Loop\n",
    "    - Calculate current loss (forward propagation)\n",
    "    - Calculate current gradient (backward propagation)\n",
    "    - Update parameters (gradient descent)\n",
    "    \n",
    "You often build 1-3 sperately and integrate them into function we call model()\n",
    "\n"
   ]
  },
  {
   "cell_type": "markdown",
   "id": "c938770b-01f9-4e3e-a2a1-a5c7c1768966",
   "metadata": {},
   "source": [
    "### 4.1 Sigmoid function"
   ]
  },
  {
   "cell_type": "code",
   "execution_count": 67,
   "id": "243bbe1b-1495-4ed9-ac52-96f9599e8984",
   "metadata": {
    "tags": []
   },
   "outputs": [],
   "source": [
    "def sigmoid(z):\n",
    "    \"\"\"\n",
    "    compute the sigmoid of z\n",
    "    \n",
    "    Arguments: \n",
    "    z -- A scalar or numpy array of any size where z should be an numpy array instead of a python list\n",
    "    return:\n",
    "    s -- sigmoid(z)\n",
    "    \"\"\"\n",
    "    s = 1 / (1 + np.exp(-z))\n",
    "    return s"
   ]
  },
  {
   "cell_type": "code",
   "execution_count": 69,
   "id": "a9a2c983-7e28-4e9b-a621-88deb54c1095",
   "metadata": {
    "tags": []
   },
   "outputs": [
    {
     "name": "stdout",
     "output_type": "stream",
     "text": [
      "sigmoid([0,2] = [0.5        0.88079708]\n",
      "\u001b[92mAll tests passed!\n"
     ]
    }
   ],
   "source": [
    "print(\"sigmoid([0,2] = \" + str(sigmoid(np.array([0,2]))))\n",
    "sigmoid_test(sigmoid)"
   ]
  },
  {
   "cell_type": "code",
   "execution_count": 70,
   "id": "48f40a69-b481-4023-baf1-1bb22ef831b3",
   "metadata": {
    "tags": []
   },
   "outputs": [
    {
     "name": "stdout",
     "output_type": "stream",
     "text": [
      "[0.62245933 0.5        0.88079708]\n"
     ]
    }
   ],
   "source": [
    "x = np.array([0.5, 0, 2.0])\n",
    "output = sigmoid(x)\n",
    "print(output)"
   ]
  },
  {
   "cell_type": "markdown",
   "id": "b56fd163-d59f-4c3e-b235-efdc4d3c6d33",
   "metadata": {},
   "source": [
    "### 4.2 Initializing parameters\n",
    "\n",
    "**Exercise 4 - initialize with zeros**\n",
    "\n",
    "Implement parameter initiaization in the cell below. You have to initialize w as a vector of zeros. \n"
   ]
  },
  {
   "cell_type": "code",
   "execution_count": 81,
   "id": "35accc92-7eb9-4c4c-850d-54ed22266af5",
   "metadata": {
    "tags": []
   },
   "outputs": [],
   "source": [
    "def initialize_with_zeros(dim):\n",
    "    \"\"\"\n",
    "    This  function creates a vector of zeros of shape (dim, 1) for w and initializes b to 0\n",
    "    Argument:\n",
    "    dim -- size of the w vector we want\n",
    "    \n",
    "    Returns:\n",
    "    w -- initialized vector of shape (w, 1)\n",
    "    b -- initialized scalor \n",
    "    \"\"\"\n",
    "    w = np.zeros((dim, 1))\n",
    "    b = 0.0\n",
    "    return w, b"
   ]
  },
  {
   "cell_type": "code",
   "execution_count": 82,
   "id": "a2c283cf-0a83-45ca-9d4e-543f1e1c681b",
   "metadata": {
    "tags": []
   },
   "outputs": [
    {
     "name": "stdout",
     "output_type": "stream",
     "text": [
      "w = [[0.]\n",
      " [0.]]\n",
      "b = 0.0\n",
      "\u001b[92mFirst test passed!\n",
      "\u001b[92mSecond test passed!\n"
     ]
    }
   ],
   "source": [
    "dim = 2\n",
    "w, b = initialize_with_zeros(dim)\n",
    "\n",
    "assert type(b) == float\n",
    "print (\"w = \" + str(w))\n",
    "print (\"b = \" + str(b))\n",
    "\n",
    "initialize_with_zeros_test_1(initialize_with_zeros)\n",
    "initialize_with_zeros_test_2(initialize_with_zeros)\n"
   ]
  },
  {
   "cell_type": "markdown",
   "id": "c7a4afb3-01ca-4f06-aba6-fb544a8132bc",
   "metadata": {},
   "source": [
    "### 4.3 Forward and backward propagation\n",
    "\n",
    "Now that your parameters are initialized, you can do the \"forward\" and \"backward\" propagation steps for learning the parameters. "
   ]
  },
  {
   "cell_type": "markdown",
   "id": "8ada7461-558c-4691-a60d-cec0b75190a9",
   "metadata": {},
   "source": [
    "**Exercise5 - propagate**\n",
    "\n",
    "Implement a function propagate() that computes the cost function and its gradient\n",
    "\n"
   ]
  }
 ],
 "metadata": {
  "kernelspec": {
   "display_name": "Python 3 (ipykernel)",
   "language": "python",
   "name": "python3"
  },
  "language_info": {
   "codemirror_mode": {
    "name": "ipython",
    "version": 3
   },
   "file_extension": ".py",
   "mimetype": "text/x-python",
   "name": "python",
   "nbconvert_exporter": "python",
   "pygments_lexer": "ipython3",
   "version": "3.11.4"
  }
 },
 "nbformat": 4,
 "nbformat_minor": 5
}
