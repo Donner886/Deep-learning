{
 "cells": [
  {
   "cell_type": "markdown",
   "id": "39c90465-cb73-4116-9641-d2f28c954607",
   "metadata": {
    "tags": []
   },
   "source": [
    "# Logistic Regression with a neutral network mindset\n",
    "\n",
    "Welcome to hour first(reqiured) programming assignment! you will build a logistic regression classifier to recognize cats. This assignment will step you through how to do this with a Neutral network mindset, and will also hone your intuitions about deep learning. \n",
    "\n",
    "* you will learn to: *\n",
    "- Build the general architechture of a learning algorithm, including: \n",
    "    - Initializing the cost function and its gradient\n",
    "    - Calculating the cost functionand its gradient \n",
    "    - Using an optimization algorithm (gradient descent)\n",
    "- Gather all three functions above into a main model function, in the right order.  "
   ]
  },
  {
   "cell_type": "markdown",
   "id": "d6163d26-f533-4d51-8e02-90a943f88fa7",
   "metadata": {},
   "source": [
    "## Step1,  Packages\n",
    "\n",
    "First, let's run the cell below to import all the packages that you will need during this assgiment\n",
    "1. numpy: is the fundamental package for scientific computing with Python \n",
    "2. h5py: is a common package to interact with a dataset that is stored on an H5 file.  \n",
    "3. matplotlib: is a famous library to plot graphs in python\n",
    "4. PIL and scipy:  are used here to test your model with your own picture at the end.  "
   ]
  },
  {
   "cell_type": "code",
   "execution_count": 2,
   "id": "06a610a5-f253-40cd-a075-facc2da02bf0",
   "metadata": {
    "tags": []
   },
   "outputs": [
    {
     "ename": "ModuleNotFoundError",
     "evalue": "No module named 'lr_utils'",
     "output_type": "error",
     "traceback": [
      "\u001b[0;31m---------------------------------------------------------------------------\u001b[0m",
      "\u001b[0;31mModuleNotFoundError\u001b[0m                       Traceback (most recent call last)",
      "Cell \u001b[0;32mIn[2], line 8\u001b[0m\n\u001b[1;32m      6\u001b[0m \u001b[38;5;28;01mfrom\u001b[39;00m\u001b[38;5;250m \u001b[39m\u001b[38;5;21;01mPIL\u001b[39;00m\u001b[38;5;250m \u001b[39m\u001b[38;5;28;01mimport\u001b[39;00m Image\n\u001b[1;32m      7\u001b[0m \u001b[38;5;28;01mfrom\u001b[39;00m\u001b[38;5;250m \u001b[39m\u001b[38;5;21;01mscipy\u001b[39;00m\u001b[38;5;250m \u001b[39m\u001b[38;5;28;01mimport\u001b[39;00m ndimage\n\u001b[0;32m----> 8\u001b[0m \u001b[38;5;28;01mfrom\u001b[39;00m\u001b[38;5;250m \u001b[39m\u001b[38;5;21;01mlr_utils\u001b[39;00m\u001b[38;5;250m \u001b[39m\u001b[38;5;28;01mimport\u001b[39;00m load_dataset\n\u001b[1;32m      9\u001b[0m \u001b[38;5;28;01mfrom\u001b[39;00m\u001b[38;5;250m \u001b[39m\u001b[38;5;21;01mpublic_tests\u001b[39;00m\u001b[38;5;250m \u001b[39m\u001b[38;5;28;01mimport\u001b[39;00m \u001b[38;5;241m*\u001b[39m\n",
      "\u001b[0;31mModuleNotFoundError\u001b[0m: No module named 'lr_utils'"
     ]
    }
   ],
   "source": [
    "import numpy as np\n",
    "import copy\n",
    "import matplotlib.pyplot as plt\n",
    "import h5py\n",
    "import scipy\n",
    "from PIL import Image\n",
    "from scipy import ndimage\n",
    "from lr_utils import load_dataset\n",
    "from public_tests import *"
   ]
  },
  {
   "cell_type": "code",
   "execution_count": null,
   "id": "886498f3-6d53-47ef-af47-e3aa586824ee",
   "metadata": {},
   "outputs": [],
   "source": []
  }
 ],
 "metadata": {
  "kernelspec": {
   "display_name": "Python 3 (ipykernel)",
   "language": "python",
   "name": "python3"
  },
  "language_info": {
   "codemirror_mode": {
    "name": "ipython",
    "version": 3
   },
   "file_extension": ".py",
   "mimetype": "text/x-python",
   "name": "python",
   "nbconvert_exporter": "python",
   "pygments_lexer": "ipython3",
   "version": "3.11.4"
  }
 },
 "nbformat": 4,
 "nbformat_minor": 5
}
