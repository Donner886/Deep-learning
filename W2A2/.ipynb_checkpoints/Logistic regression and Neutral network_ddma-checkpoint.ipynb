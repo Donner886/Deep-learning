{
 "cells": [
  {
   "cell_type": "markdown",
   "id": "39c90465-cb73-4116-9641-d2f28c954607",
   "metadata": {
    "tags": []
   },
   "source": [
    "# Logistic Regression with a neutral network mindset\n",
    "\n",
    "Welcome to hour first(reqiured) programming assignment! you will build a logistic regression classifier to recognize cats. This assignment will step you through how to do this with a Neutral network mindset, and will also hone your intuitions about deep learning. \n",
    "\n",
    "* you will learn to: *\n",
    "- Build the general architechture of a learning algorithm, including: \n",
    "    - Initializing the cost function and its gradient\n",
    "    - Calculating the cost functionand its gradient \n",
    "    - Using an optimization algorithm (gradient descent)\n",
    "- Gather all three functions above into a main model function, in the right order.  "
   ]
  },
  {
   "cell_type": "markdown",
   "id": "d6163d26-f533-4d51-8e02-90a943f88fa7",
   "metadata": {},
   "source": [
    "## Step1,  Packages\n",
    "\n",
    "First, let's run the cell below to import all the packages that you will need during this assgiment\n",
    "1. numpy: is the fundamental package for scientific computing with Python \n",
    "2. h5py: is a common package to interact with a dataset that is stored on an H5 file.  \n",
    "3. matplotlib: is a famous library to plot graphs in python\n",
    "4. PIL and scipy:  are used here to test your model with your own picture at the end.  "
   ]
  },
  {
   "cell_type": "code",
   "execution_count": 1,
   "id": "06a610a5-f253-40cd-a075-facc2da02bf0",
   "metadata": {
    "tags": []
   },
   "outputs": [],
   "source": [
    "import numpy as np\n",
    "import copy\n",
    "import matplotlib.pyplot as plt\n",
    "import h5py\n",
    "import scipy\n",
    "from PIL import Image\n",
    "from scipy import ndimage\n",
    "from lr_utils import load_dataset\n",
    "from public_tests import *\n",
    "\n",
    "%matplotlib inline \n",
    "%load_ext autoreload\n",
    "%autoreload 2"
   ]
  },
  {
   "cell_type": "markdown",
   "id": "326d01d7-aa8f-4541-b80b-865af0b00cde",
   "metadata": {},
   "source": [
    "## Step2 - Overview of the Problem set\n",
    "\n",
    "Problem Statement: \n",
    "1. We added '_orig' at the end of image datasets (train and test) because we are going to preprocess them. After preprocessing, we will end up with train_set_x and test_set_x\n",
    "2. Each line of your train_set_x and test_set_x is an array representing an image. You can visulize an example by runing the follow code. \n",
    "3. Many software bugs in deep learning come from having matrix/vector dimensions that don't fit.  If you can keep your matrix/vector dimensions straight you will go a long way toward eliminating many bugs. \n",
    "4. Here you must know numpy.squeeze() which is used to "
   ]
  },
  {
   "cell_type": "code",
   "execution_count": 171,
   "id": "c45537cc-6e19-4d6b-a0f9-c821718fc7b1",
   "metadata": {
    "tags": []
   },
   "outputs": [],
   "source": [
    "###  Loading the data (cat/non-cat)\n",
    "train_set_x_orig, train_set_y, test_set_x_orig, test_set_y, classes = load_dataset()"
   ]
  },
  {
   "cell_type": "code",
   "execution_count": 172,
   "id": "a890c673-34c1-4c3f-b47e-5a8792990bcc",
   "metadata": {
    "tags": []
   },
   "outputs": [
    {
     "name": "stdout",
     "output_type": "stream",
     "text": [
      "y = [1], it's a 'cat' picture.\n"
     ]
    },
    {
     "data": {
      "image/png": "[encoded data removed]",
      "text/plain": [
       "<Figure size 640x480 with 1 Axes>"
      ]
     },
     "metadata": {},
     "output_type": "display_data"
    }
   ],
   "source": [
    "index = 24\n",
    "plt.imshow(train_set_x_orig[index])\n",
    "print (\"y = \" + str(train_set_y[:, index]) + \", it's a '\" + classes[np.squeeze(train_set_y[:, index])].decode(\"utf-8\") +  \"' picture.\")"
   ]
  },
  {
   "cell_type": "markdown",
   "id": "7d282999-14a7-4c5a-b63d-2bb30f97de19",
   "metadata": {},
   "source": [
    "## Exercise1\n",
    "\n",
    "Find the values for: - m_train (number of training examples) - m_test (number of test examples) -num_px (=height=weight of a training image) Remember that train_set_x_orig is a numbpy-array of shape (m_train, num_px, num_px, 3). "
   ]
  },
  {
   "cell_type": "code",
   "execution_count": 173,
   "id": "cbf2e728-15ca-444e-b796-7aa3ff8d4d14",
   "metadata": {
    "tags": []
   },
   "outputs": [
    {
     "name": "stdout",
     "output_type": "stream",
     "text": [
      "Number of training examples: m_train = 209\n",
      "Number of testing examples: m_test = 50\n",
      "Height/Width of each image: num_px = 64\n",
      "Each image is of size: (64, 64, 3)\n",
      "train_set_x shape: (209, 64, 64, 3)\n",
      "train_set_y shape: (1, 209)\n",
      "test_set_x shape: (50, 64, 64, 3)\n",
      "test_set_y shape: (1, 50)\n"
     ]
    }
   ],
   "source": [
    "m_train = train_set_x_orig.shape[0]\n",
    "m_test = test_set_x_orig.shape[0]\n",
    "num_px = train_set_x_orig.shape[1]\n",
    "\n",
    "\n",
    "print (\"Number of training examples: m_train = \" + str(m_train))\n",
    "print (\"Number of testing examples: m_test = \" + str(m_test))\n",
    "print (\"Height/Width of each image: num_px = \" + str(num_px))\n",
    "print (\"Each image is of size: (\" + str(num_px) + \", \" + str(num_px) + \", 3)\")\n",
    "print (\"train_set_x shape: \" + str(train_set_x_orig.shape))\n",
    "print (\"train_set_y shape: \" + str(train_set_y.shape))\n",
    "print (\"test_set_x shape: \" + str(test_set_x_orig.shape))\n",
    "print (\"test_set_y shape: \" + str(test_set_y.shape))"
   ]
  },
  {
   "cell_type": "markdown",
   "id": "fd23ef86-11d0-4f79-9e06-f142710a4dbb",
   "metadata": {},
   "source": [
    "For convenience, you should now reshape images of shape (num_px, num_px, 3) in a numpy-arrary of shape (num_px * numpy*3, 1).After this, our training and test dateset is a numpy-arrary where each column represents a flattened image.  There should be m_train (respectively m_test) columns. \n"
   ]
  },
  {
   "cell_type": "markdown",
   "id": "d00518db-be58-40b1-8830-f328da29ffa6",
   "metadata": {},
   "source": [
    "## Exercise 2\n",
    "\n",
    "Reshape the training and test data sets so that images of size (num_px, num_px, 3) are flattened into single vectors of shape (num_px * num_px * 3). \n",
    "\n",
    "A trick when you want to flattened a matrix X of (a, b, c, d) to a matrix X_flatten of shape (b$c$d, a) is to use:\n",
    "X_flatten = X.reshape(X.shape[0], -1).T\n"
   ]
  },
  {
   "cell_type": "code",
   "execution_count": 174,
   "id": "63dc56bf-df8b-4141-8e17-e9bbad391b5d",
   "metadata": {
    "tags": []
   },
   "outputs": [],
   "source": [
    "train_set_x_flatten = train_set_x_orig.reshape(train_set_x_orig.shape[0], -1).T\n",
    "test_set_x_flatten = test_set_x_orig.reshape(test_set_x_orig.shape[0],-1).T\n",
    "\n",
    "             "
   ]
  },
  {
   "cell_type": "code",
   "execution_count": 175,
   "id": "ea2e546f-6157-43b2-88f6-55e3a6b089a9",
   "metadata": {
    "tags": []
   },
   "outputs": [
    {
     "data": {
      "text/plain": [
       "array([196, 192, 190, 193, 186, 182, 188, 179, 174, 213], dtype=uint8)"
      ]
     },
     "execution_count": 175,
     "metadata": {},
     "output_type": "execute_result"
    }
   ],
   "source": [
    "train_set_x_flatten[0:10, 1]"
   ]
  },
  {
   "cell_type": "code",
   "execution_count": 176,
   "id": "1e2a2898-4186-4c27-9ee7-7291ab6fcb0f",
   "metadata": {
    "tags": []
   },
   "outputs": [
    {
     "name": "stdout",
     "output_type": "stream",
     "text": [
      "train_set_x_flatten shape: (12288, 209)\n",
      "train_set_y shape: (1, 209)\n",
      "test_set_x_flatten shape: (12288, 50)\n",
      "test_set_y shape: (1, 50)\n"
     ]
    }
   ],
   "source": [
    "\n",
    "## CHECK that the first 10 pixels of the second image are in the correct place\n",
    "assert np.alltrue(train_set_x_flatten[0:10,1] == [196, 192, 190, 193, 186, 182, 188, 179, 174, 213])\n",
    "assert np.alltrue(test_set_x_flatten[0:10, 1] == [115, 110, 111, 137, 129, 129, 155, 146, 145, 159])\n",
    "\n",
    "print(f'train_set_x_flatten shape: {str(train_set_x_flatten.shape)}')\n",
    "print(f'train_set_y shape: {str(train_set_y.shape)}')\n",
    "print(f'test_set_x_flatten shape: {str(test_set_x_flatten.shape)}')\n",
    "print(f'test_set_y shape: {str(test_set_y.shape)}')\n"
   ]
  },
  {
   "cell_type": "markdown",
   "id": "a6af94fe-14a0-4d28-8f49-30e432ab9ec4",
   "metadata": {},
   "source": [
    "To represent color image,  the red, green and blue channels must be specified for each pixel, so the pixel value is  a vector of three numbers ranging from 0-255. \n",
    "\n",
    "One common preprosessing step in machine learning is to center and standardize your dataset, meaning that you substract the mean of the whole numpy arrary from each example., and then devide each example by the standard deviation of the whole numpy array.  But for picture datasets, it is simpler and more convenient and works almost as well to just divide every row of the dataset by 255.  "
   ]
  },
  {
   "cell_type": "code",
   "execution_count": 177,
   "id": "8c3a9d52-d9e4-4af1-9c60-98fa24868005",
   "metadata": {
    "tags": []
   },
   "outputs": [],
   "source": [
    "### standardize ours dataset\n",
    "train_set_x = train_set_x_flatten / 255\n",
    "test_set_x = test_set_x_flatten / 255\n"
   ]
  },
  {
   "cell_type": "markdown",
   "id": "d50fa91f-d518-436c-b4c9-3598c4977475",
   "metadata": {},
   "source": [
    "<font color='blue'>\n",
    "    \n",
    "**what you need to remember**\n",
    "    \n",
    "Common steps for pre-processing a new dataset are:\n",
    "- Figure out the dimensions and shapes of the problem\n",
    "- Reshape the datasets such that each example is now a vector of size\n",
    "- \"Standardize\" the data"
   ]
  },
  {
   "cell_type": "markdown",
   "id": "9fdf452e-d6d9-4c38-9782-646410d034d7",
   "metadata": {},
   "source": [
    "## Step3 - General Architechture of the learning algorithm\n",
    "\n",
    "It's time to design a simple algorithm to distinguish cat image from non-cat images. \n",
    "\n",
    "You will build a logistic Regression, using a neutral network mindset.  The following Figure explains why **logistic Regression is actually a very simple Neutral Network**\n",
    "\n",
    "<font color='blue'>\n",
    "PLEASE UNDERSTAND THE ALGORITHEM CLEARLY\n",
    "\n",
    "**Key steps**: In this exercise, you will carry out the following steps: \n",
    "- Initialize the parameter of the model\n",
    "- Learn the parameters for the model by minimizing the cost\n",
    "- User the learned parameter to make prediction \n",
    "- Analyse the result and conclude"
   ]
  },
  {
   "cell_type": "markdown",
   "id": "631cbcdf-724f-4f93-a978-30c15f170a8f",
   "metadata": {},
   "source": [
    "## Step4: Building the parts of our algorithm\n",
    "\n",
    "The main steps for building a Neutral Network are:  \n",
    "1. Define the model struture ( such as number of input features)\n",
    "2. Initialize the model's parameters\n",
    "3. Loop\n",
    "    - Calculate current loss (forward propagation)\n",
    "    - Calculate current gradient (backward propagation)\n",
    "    - Update parameters (gradient descent)\n",
    "    \n",
    "You often build 1-3 sperately and integrate them into function we call model()\n",
    "\n"
   ]
  },
  {
   "cell_type": "markdown",
   "id": "c938770b-01f9-4e3e-a2a1-a5c7c1768966",
   "metadata": {},
   "source": [
    "### 4.1 Sigmoid function"
   ]
  },
  {
   "cell_type": "code",
   "execution_count": 67,
   "id": "243bbe1b-1495-4ed9-ac52-96f9599e8984",
   "metadata": {
    "tags": []
   },
   "outputs": [],
   "source": [
    "def sigmoid(z):\n",
    "    \"\"\"\n",
    "    compute the sigmoid of z\n",
    "    \n",
    "    Arguments: \n",
    "    z -- A scalar or numpy array of any size where z should be an numpy array instead of a python list\n",
    "    return:\n",
    "    s -- sigmoid(z)\n",
    "    \"\"\"\n",
    "    s = 1 / (1 + np.exp(-z))\n",
    "    return s"
   ]
  },
  {
   "cell_type": "code",
   "execution_count": 69,
   "id": "a9a2c983-7e28-4e9b-a621-88deb54c1095",
   "metadata": {
    "tags": []
   },
   "outputs": [
    {
     "name": "stdout",
     "output_type": "stream",
     "text": [
      "sigmoid([0,2] = [0.5        0.88079708]\n",
      "\u001b[92mAll tests passed!\n"
     ]
    }
   ],
   "source": [
    "print(\"sigmoid([0,2] = \" + str(sigmoid(np.array([0,2]))))\n",
    "sigmoid_test(sigmoid)"
   ]
  },
  {
   "cell_type": "code",
   "execution_count": 70,
   "id": "48f40a69-b481-4023-baf1-1bb22ef831b3",
   "metadata": {
    "tags": []
   },
   "outputs": [
    {
     "name": "stdout",
     "output_type": "stream",
     "text": [
      "[0.62245933 0.5        0.88079708]\n"
     ]
    }
   ],
   "source": [
    "x = np.array([0.5, 0, 2.0])\n",
    "output = sigmoid(x)\n",
    "print(output)"
   ]
  },
  {
   "cell_type": "markdown",
   "id": "b56fd163-d59f-4c3e-b235-efdc4d3c6d33",
   "metadata": {},
   "source": [
    "### 4.2 Initializing parameters\n",
    "\n",
    "**Exercise 4 - initialize with zeros**\n",
    "\n",
    "Implement parameter initiaization in the cell below. You have to initialize w as a vector of zeros. \n"
   ]
  },
  {
   "cell_type": "code",
   "execution_count": 81,
   "id": "35accc92-7eb9-4c4c-850d-54ed22266af5",
   "metadata": {
    "tags": []
   },
   "outputs": [],
   "source": [
    "def initialize_with_zeros(dim):\n",
    "    \"\"\"\n",
    "    This  function creates a vector of zeros of shape (dim, 1) for w and initializes b to 0\n",
    "    Argument:\n",
    "    dim -- size of the w vector we want\n",
    "    \n",
    "    Returns:\n",
    "    w -- initialized vector of shape (w, 1)\n",
    "    b -- initialized scalor \n",
    "    \"\"\"\n",
    "    w = np.zeros((dim, 1))\n",
    "    b = 0.0\n",
    "    return w, b"
   ]
  },
  {
   "cell_type": "code",
   "execution_count": 82,
   "id": "a2c283cf-0a83-45ca-9d4e-543f1e1c681b",
   "metadata": {
    "tags": []
   },
   "outputs": [
    {
     "name": "stdout",
     "output_type": "stream",
     "text": [
      "w = [[0.]\n",
      " [0.]]\n",
      "b = 0.0\n",
      "\u001b[92mFirst test passed!\n",
      "\u001b[92mSecond test passed!\n"
     ]
    }
   ],
   "source": [
    "dim = 2\n",
    "w, b = initialize_with_zeros(dim)\n",
    "\n",
    "assert type(b) == float\n",
    "print (\"w = \" + str(w))\n",
    "print (\"b = \" + str(b))\n",
    "\n",
    "initialize_with_zeros_test_1(initialize_with_zeros)\n",
    "initialize_with_zeros_test_2(initialize_with_zeros)\n"
   ]
  },
  {
   "cell_type": "markdown",
   "id": "c7a4afb3-01ca-4f06-aba6-fb544a8132bc",
   "metadata": {},
   "source": [
    "### 4.3 Forward and backward propagation\n",
    "\n",
    "Now that your parameters are initialized, you can do the \"forward\" and \"backward\" propagation steps for learning the parameters. "
   ]
  },
  {
   "cell_type": "markdown",
   "id": "8ada7461-558c-4691-a60d-cec0b75190a9",
   "metadata": {},
   "source": [
    "**Exercise5 - propagate**\n",
    "\n",
    "Implement a function `propagate()` that computes the cost function and its gradient\n",
    "\n",
    "Hints:\n",
    "\n",
    "Forward Propagation:\n"
   ]
  },
  {
   "cell_type": "code",
   "execution_count": 110,
   "id": "126f7885-5b08-4e13-bada-b15fa39c31d2",
   "metadata": {
    "tags": []
   },
   "outputs": [],
   "source": [
    "# Graded Function: propagate\n",
    "def propagate(w, b, X, Y):\n",
    "    \"\"\"\n",
    "    Implement the cost function and its gradient for the propagation explained above\n",
    "    Arguments:\n",
    "    w -- weights, a numpy arrary of size (num_px*num_px*3, 1)\n",
    "    b -- bias, a scalar\n",
    "    X -- data of size (num_px * num_px * 3, number of examples)\n",
    "    Y -- true \"label\" vector (containing 0 if non-cat, 1 if cat) of size (1, number of examples)\n",
    "    \n",
    "    Return:\n",
    "    grads -- dictionary containing the gradients of the weights and bias)\n",
    "        (dw -- gradient of the loss with respect to w, thus same as shape as w)\n",
    "        (db -- grandient of the loss with respect to b, thus same as shape as b)\n",
    "    cost -- negative log-likelihood cost for logistic regression\n",
    "    \n",
    "    \"\"\"\n",
    "    \n",
    "        \n",
    "    ## train set size\n",
    "    m = X.shape[1]\n",
    "    \n",
    "    # FORWARD PROPAGATION (FROM X TO COST)\n",
    "    #(≈ 2 lines of code)\n",
    "    # compute activation\n",
    "    # A = ...\n",
    "    # compute cost by using np.dot to perform multiplication. \n",
    "    # And don't use loops for the sum.\n",
    "    # cost = ...                                \n",
    "    # YOUR CODE STARTS HERE\n",
    "    Z = np.dot(w.T, X) + b\n",
    "    A = 1 / (1+np.exp(-Z))\n",
    "    cost  = np.mean(-(Y * np.log(A) + (1-Y) * np.log(1-A)))\n",
    "    \n",
    "    # YOUR CODE ENDS HERE\n",
    "\n",
    "    # BACKWARD PROPAGATION (TO FIND GRAD)\n",
    "    #(≈ 2 lines of code)\n",
    "    # dw = ...\n",
    "    # db = ...\n",
    "    # YOUR CODE STARTS HERE\n",
    "    dw = 1 / m * np.dot( X, (A - Y).T)\n",
    "    db = 1 / m *  (np.sum(A - Y ))\n",
    "    \n",
    "    # YOUR CODE ENDS HERE\n",
    "    cost = np.squeeze(np.array(cost))\n",
    "\n",
    "    \n",
    "    grads = {\"dw\": dw,\n",
    "             \"db\": db}\n",
    "    \n",
    "    return grads, cost\n",
    "\n",
    "\n"
   ]
  },
  {
   "cell_type": "code",
   "execution_count": 115,
   "id": "9eef1f5d-f9f7-430b-96f7-1df3eb670e7f",
   "metadata": {
    "tags": []
   },
   "outputs": [
    {
     "name": "stdout",
     "output_type": "stream",
     "text": [
      "dw = [[ 0.25071532]\n",
      " [-0.06604096]]\n",
      "db = -0.1250040450043965\n",
      "cost = 0.15900537707692405\n",
      "\u001b[92mAll tests passed!\n"
     ]
    }
   ],
   "source": [
    "w =  np.array([[1.], [2]])\n",
    "b = 1.5\n",
    "\n",
    "# X is using 3 examples, with 2 features each\n",
    "# Each example is stacked column-wise\n",
    "X = np.array([[1., -2., -1.], [3., 0.5, -3.2]])\n",
    "Y = np.array([[1, 1, 0]])\n",
    "\n",
    "\n",
    "grads, cost = propagate(w, b, X, Y)\n",
    "\n",
    "assert type(grads[\"dw\"]) == np.ndarray\n",
    "assert grads[\"dw\"].shape == (2, 1)\n",
    "assert type(grads[\"db\"]) == np.float64\n",
    "\n",
    "\n",
    "print (\"dw = \" + str(grads[\"dw\"]))\n",
    "print (\"db = \" + str(grads[\"db\"]))\n",
    "print (\"cost = \" + str(cost))\n",
    "\n",
    "propagate_test(propagate)"
   ]
  },
  {
   "cell_type": "markdown",
   "id": "df154955-1bcc-4acd-b95a-1fe868668bc4",
   "metadata": {},
   "source": [
    "## 4.4 - Optimization\n",
    "\n",
    "- You have initialized your parameters\n",
    "- You are also able to compute a cost function and its gradient\n",
    "- Now, you want to update the parameters using gradient descent. \n",
    "\n",
    "**Exercise 6- optimize** \n",
    "\n",
    "Write down the optimization function. The goal is to learn w and b by minimizing the cost function J. For a parameter O, the update rule is O = O - a dO, where a is the learning rate:\n"
   ]
  },
  {
   "cell_type": "code",
   "execution_count": 118,
   "id": "27879dcc-86b1-486e-8d3c-1d4ed227ada8",
   "metadata": {
    "tags": []
   },
   "outputs": [],
   "source": [
    "# GRADED FUNCTION: optimize\n",
    "\n",
    "def optimize(w, b, X, Y, num_iterations=100, learning_rate=0.009, print_cost=False):\n",
    "    \"\"\"\n",
    "    This function optimizes w and b by running a gradient descent algorithm\n",
    "    \n",
    "    Arguments:\n",
    "    w -- weights, a numpy array of size (num_px * num_px * 3, 1)\n",
    "    b -- bias, a scalar\n",
    "    X -- data of shape (num_px * num_px * 3, number of examples)\n",
    "    Y -- true \"label\" vector (containing 0 if non-cat, 1 if cat), of shape (1, number of examples)\n",
    "    num_iterations -- number of iterations of the optimization loop\n",
    "    learning_rate -- learning rate of the gradient descent update rule\n",
    "    print_cost -- True to print the loss every 100 steps\n",
    "    \n",
    "    Returns:\n",
    "    params -- dictionary containing the weights w and bias b\n",
    "    grads -- dictionary containing the gradients of the weights and bias with respect to the cost function\n",
    "    costs -- list of all the costs computed during the optimization, this will be used to plot the learning curve.\n",
    "    \n",
    "    Tips:\n",
    "    You basically need to write down two steps and iterate through them:\n",
    "        1) Calculate the cost and the gradient for the current parameters. Use propagate().\n",
    "        2) Update the parameters using gradient descent rule for w and b.\n",
    "    \"\"\"\n",
    "    \n",
    "    w = copy.deepcopy(w)\n",
    "    b = copy.deepcopy(b)\n",
    "    \n",
    "    costs = []\n",
    "    \n",
    "    for i in range(num_iterations):\n",
    "        # (≈ 1 lines of code)\n",
    "        # Cost and gradient calculation \n",
    "        # grads, cost = ...\n",
    "        # YOUR CODE STARTS HERE\n",
    "        grads, cost = propagate(w, b, X, Y)\n",
    "        \n",
    "        # YOUR CODE ENDS HERE\n",
    "        \n",
    "        # Retrieve derivatives from grads\n",
    "        dw = grads[\"dw\"]\n",
    "        db = grads[\"db\"]\n",
    "        \n",
    "        # update rule (≈ 2 lines of code)\n",
    "        # w = ...\n",
    "        # b = ...\n",
    "        # YOUR CODE STARTS HERE\n",
    "        w -= learning_rate * dw\n",
    "        b -= learning_rate * db\n",
    "        \n",
    "        # YOUR CODE ENDS HERE\n",
    "        \n",
    "        # Record the costs\n",
    "        if i % 100 == 0:\n",
    "            costs.append(cost)\n",
    "        \n",
    "            # Print the cost every 100 training iterations\n",
    "            if print_cost:\n",
    "                print (\"Cost after iteration %i: %f\" %(i, cost))\n",
    "    \n",
    "    params = {\"w\": w,\n",
    "              \"b\": b}\n",
    "    \n",
    "    grads = {\"dw\": dw,\n",
    "             \"db\": db}\n",
    "    \n",
    "    return params, grads, costs"
   ]
  },
  {
   "cell_type": "code",
   "execution_count": 120,
   "id": "3cf5d614-2f92-4399-b081-051212d4da6f",
   "metadata": {
    "collapsed": true,
    "jupyter": {
     "outputs_hidden": true
    },
    "tags": []
   },
   "outputs": [
    {
     "name": "stdout",
     "output_type": "stream",
     "text": [
      "w = [[0.16336373]\n",
      " [2.24983314]]\n",
      "b = 1.9134213202286963\n",
      "dw = [[ 0.04008976]\n",
      " [-0.01510353]]\n",
      "db = -0.019404959588189174\n",
      "Costs = [array(0.15900538), array(0.10541138), array(0.07681337), array(0.05976109), array(0.04867359), array(0.04097783), array(0.03536348), array(0.03110563), array(0.02777532), array(0.02510443)]\n",
      "\u001b[92mAll tests passed!\n"
     ]
    }
   ],
   "source": [
    "params, grads, costs = optimize(w, b, X, Y, num_iterations=1000, learning_rate=0.009, print_cost=False)\n",
    "\n",
    "print (\"w = \" + str(params[\"w\"]))\n",
    "print (\"b = \" + str(params[\"b\"]))\n",
    "print (\"dw = \" + str(grads[\"dw\"]))\n",
    "print (\"db = \" + str(grads[\"db\"]))\n",
    "print(\"Costs = \" + str(costs))\n",
    "\n",
    "optimize_test(optimize)"
   ]
  },
  {
   "cell_type": "markdown",
   "id": "0578bbac-4895-4225-ace0-5415e2e2de3b",
   "metadata": {
    "tags": []
   },
   "source": [
    "def visualize_convergence():\n",
    "    \"\"\"可视化梯度下降的收敛过程\"\"\"\n",
    "    # 生成数据\n",
    "    np.random.seed(42)\n",
    "    X = np.random.randn(100, 1)\n",
    "    y = (X > 0.5).astype(float)  # 简单的决策边界\n",
    "    \n",
    "    # 训练逻辑回归\n",
    "    w, b = 0.0, 0.0\n",
    "    learning_rate = 0.1\n",
    "    losses = []\n",
    "    accuracies = []\n",
    "    \n",
    "    for i in range(100):\n",
    "        # 前向传播\n",
    "        z = X * w + b\n",
    "        a = 1 / (1 + np.exp(-z))\n",
    "        \n",
    "        # 计算损失和准确率\n",
    "        loss = np.mean(-(y * np.log(a + 1e-15) + (1 - y) * np.log(1 - a + 1e-15)))\n",
    "        predictions = (a > 0.5).astype(float)\n",
    "        accuracy = np.mean(predictions == y)\n",
    "        \n",
    "        losses.append(loss)\n",
    "        accuracies.append(accuracy)\n",
    "        \n",
    "        # 反向传播\n",
    "        dz = a - y\n",
    "        dw = np.mean(dz * X)\n",
    "        db = np.mean(dz)\n",
    "        \n",
    "        # 更新参数\n",
    "        w -= learning_rate * dw\n",
    "        b -= learning_rate * db\n",
    "    \n",
    "    # 绘制损失和准确率曲线\n",
    "    plt.figure(figsize=(12, 4))\n",
    "    \n",
    "    plt.subplot(1, 2, 1)\n",
    "    plt.plot(losses)\n",
    "    plt.title('Loss Convergence')\n",
    "    plt.xlabel('Iterations')\n",
    "    plt.ylabel('Loss')\n",
    "    plt.grid(True)\n",
    "    \n",
    "    plt.subplot(1, 2, 2)\n",
    "    plt.plot(accuracies)\n",
    "    plt.title('Accuracy Convergence')\n",
    "    plt.xlabel('Iterations')\n",
    "    plt.ylabel('Accuracy')\n",
    "    plt.grid(True)\n",
    "    \n",
    "    plt.tight_layout()\n",
    "    plt.show()\n",
    "\n",
    "visualize_convergence()"
   ]
  },
  {
   "cell_type": "markdown",
   "id": "4f98038e-8ebf-4c39-9770-581c713feb1d",
   "metadata": {
    "tags": []
   },
   "source": [
    "## Exercise 7 - predict\n",
    "\n",
    "The previous function will output the learned w and b. we are able to use w and b to predict the labels for a dataset X. implement the predict() function. \n",
    "\n",
    "there are two steps to  computing predictions. \n",
    "1. calculate Yhat = A =sigmoid(w.T*X +b)\n",
    "2. Convert the entries of a into 0 (if activation <= 0.5) or 1 (if activation > 0.5), stores the predictions in a vector Y_prediction. if you wish, you can use an if/else statement in a for loop"
   ]
  },
  {
   "cell_type": "code",
   "execution_count": 137,
   "id": "a891361a-5d0c-42bf-b661-c5f3bf48d970",
   "metadata": {
    "tags": []
   },
   "outputs": [],
   "source": [
    "## GRADED FUNCTION predict\n",
    "\n",
    "def predict(w, b, X):\n",
    "    \"\"\"\n",
    "    predict whether the label is 0 or 1 using learned logistic regression parameters (w, b)\n",
    "    \n",
    "    Arguments:\n",
    "    w -- weights, a numpy array of size  (num_px * num_px *3, 1 )\n",
    "    b -- bias, a scalar\n",
    "    X -- data of size (num_px * num_px * 3, number of examples)\n",
    "    \n",
    "    Returns: \n",
    "    Y_prediction - a numpy arrary (vector) containing all predictions (0/1) for the examples in X\n",
    "    \n",
    "    \"\"\"\n",
    "    m = X.shape[1]\n",
    "    Y_prediction = np.zeros((1,m))\n",
    "    w = w.reshape(X.shape[0],1)\n",
    "    \n",
    "    ## Compute vector \"A\" predicting the probilities of a cat being present in the picture\n",
    "    #(≈ 1 line of code)\n",
    "    # A = ...\n",
    "    # YOUR CODE STARTS HERE\n",
    "    Z = np.dot(w.T, X) + b\n",
    "    A = 1 / (1 + np.exp(-Z))\n",
    "    \n",
    "    # YOUR CODE ENDS HERE\n",
    "    \n",
    "    for i in range(A.shape[1]):\n",
    "        # Convert probabilities A[0,i] to actual predictions p[0,i]\n",
    "        if A[0, i] > 0.5:\n",
    "            Y_prediction[0,i] = 1\n",
    "        else: \n",
    "            Y_prediction[0,i] = 0\n",
    "            \n",
    "            \n",
    "    return Y_prediction\n",
    "\n",
    "\n",
    "            \n",
    "        "
   ]
  },
  {
   "cell_type": "code",
   "execution_count": 138,
   "id": "1e9df63d-d9f6-4188-acac-58d7facb3ec8",
   "metadata": {
    "tags": []
   },
   "outputs": [
    {
     "name": "stdout",
     "output_type": "stream",
     "text": [
      "predictions = [[1. 1. 0.]]\n",
      "\u001b[92mAll tests passed!\n"
     ]
    }
   ],
   "source": [
    "w = np.array([[0.1124579], [0.23106775]])\n",
    "b = -0.3\n",
    "X = np.array([[1., -1.1, -3.2],[1.2, 2., 0.1]])\n",
    "\n",
    "print (\"predictions = \" + str(predict(w, b, X)))\n",
    "\n",
    "predict_test(predict)"
   ]
  },
  {
   "cell_type": "code",
   "execution_count": 141,
   "id": "8337f958-3868-4b49-9db2-69c1d4a40525",
   "metadata": {
    "tags": []
   },
   "outputs": [],
   "source": [
    "    Z = np.dot(w.T, X) + b\n",
    "    A = 1 / (1 + np.exp(-Z))"
   ]
  },
  {
   "cell_type": "markdown",
   "id": "f76d9e72-4f13-48e3-88cb-a2ed6ad28705",
   "metadata": {},
   "source": [
    "<font color='blue'>\n",
    "    \n",
    "**What to remember:**\n",
    "    \n",
    "You've implemented several functions that:\n",
    "- Initialize (w,b)\n",
    "- Optimize the loss iteratively to learn parameters (w,b):\n",
    "    - Computing the cost and its gradient \n",
    "    - Updating the parameters using gradient descent\n",
    "- Use the learned (w,b) to predict the labels for a given set of examples"
   ]
  },
  {
   "cell_type": "markdown",
   "id": "626b967f-33de-4b48-bfc7-b472f306a60b",
   "metadata": {},
   "source": [
    "##  5- Merge all functions into a model \n",
    "\n",
    "You will now see how the overall models is structured by putting together all the building blocks (functions implemented in previous parts) together,  in the right order.  \n"
   ]
  },
  {
   "cell_type": "markdown",
   "id": "9aaa28a4-3cd1-4a42-b652-d2e9f37062c9",
   "metadata": {},
   "source": [
    "#### Exercise 8 - model\n",
    "\n",
    "\n",
    "Implement the model function. Use the following notation: \n",
    "- Y_prediction_test for your predictions on the test set\n",
    "- Y_prediction_train for your predictions on the train set\n",
    "- parameters, grads, costs for the outputs of optimize()\n",
    "    "
   ]
  },
  {
   "cell_type": "code",
   "execution_count": 159,
   "id": "728890de-ade3-4922-aff1-c24c0b091af8",
   "metadata": {
    "tags": []
   },
   "outputs": [],
   "source": [
    "def model(X_train, Y_train, X_test, Y_test, num_iterations=2000, learning_rate=0.5, print_cost=False):\n",
    "    \"\"\"\n",
    "    Builds the logistic regression model by calling the function you've implemented previously\n",
    "    \n",
    "    Arguments:\n",
    "    X_train -- training set represented by a numpy array of shape (num_px * num_px * 3, m_train)\n",
    "    Y_train -- training labels represented by a numpy array (vector) of shape (1, m_train)\n",
    "    X_test -- test set represented by a numpy array of shape (num_px * num_px * 3, m_test)\n",
    "    Y_test -- test labels represented by a numpy array (vector) of shape (1, m_test)\n",
    "    num_iterations -- hyperparameter representing the number of iterations to optimize the parameters\n",
    "    learning_rate -- hyperparameter representing the learning rate used in the update rule of optimize()\n",
    "    print_cost -- Set to True to print the cost every 100 iterations\n",
    "    \n",
    "    Returns:\n",
    "    d -- dictionary containing information about the model.\n",
    "    \"\"\"\n",
    "        # (≈ 1 line of code)   \n",
    "    # initialize parameters with zeros\n",
    "    # and use the \"shape\" function to get the first dimension of X_train\n",
    "    # w, b = ...\n",
    "    \n",
    "    w, b = initialize_with_zeros(X_train.shape[0])\n",
    "    \n",
    "    #(≈ 1 line of code)\n",
    "    # Gradient descent \n",
    "    # params, grads, costs = ...\n",
    "    \n",
    "    params, grads, costs = optimize(w, b, X_train, Y_train, num_iterations, learning_rate, print_cost)\n",
    "    \n",
    "    # Retrieve parameters w and b from dictionary \"params\"\n",
    "    # w = ...\n",
    "    # b = ...\n",
    "    w = params['w']\n",
    "    b = params['b']\n",
    "    \n",
    "    # Predict test/train set examples (≈ 2 lines of code)\n",
    "    # Y_prediction_test = ...\n",
    "    # Y_prediction_train = ...\n",
    "    \n",
    "    # YOUR CODE STARTS HERE\n",
    "    Y_prediction_train = predict(w, b, X_train)\n",
    "    Y_prediction_test = predict(w,b, X_test)\n",
    "    \n",
    "    \n",
    "    # YOUR CODE ENDS HERE\n",
    "\n",
    "    # Print train/test Errors\n",
    "    if print_cost:\n",
    "        print(\"train accuracy: {} %\".format(100 - np.mean(np.abs(Y_prediction_train - Y_train)) * 100))\n",
    "        print(\"test accuracy: {} %\".format(100 - np.mean(np.abs(Y_prediction_test - Y_test)) * 100))\n",
    "\n",
    "    \n",
    "    d = {\"costs\": costs,\n",
    "         \"Y_prediction_test\": Y_prediction_test, \n",
    "         \"Y_prediction_train\" : Y_prediction_train, \n",
    "         \"w\" : w, \n",
    "         \"b\" : b,\n",
    "         \"learning_rate\" : learning_rate,\n",
    "         \"num_iterations\": num_iterations}\n",
    "    \n",
    "    return d"
   ]
  },
  {
   "cell_type": "code",
   "execution_count": 160,
   "id": "ceb7a3e1-b068-4f19-a8aa-32a08d740e22",
   "metadata": {
    "tags": []
   },
   "outputs": [
    {
     "name": "stdout",
     "output_type": "stream",
     "text": [
      "\u001b[92mAll tests passed!\n"
     ]
    }
   ],
   "source": [
    "from public_tests import * \n",
    "\n",
    "model_test(model)"
   ]
  },
  {
   "cell_type": "code",
   "execution_count": 178,
   "id": "066e907b-a6e0-46b4-92b9-bc84635939b3",
   "metadata": {
    "tags": []
   },
   "outputs": [
    {
     "name": "stdout",
     "output_type": "stream",
     "text": [
      "Cost after iteration 0: 0.693147\n",
      "Cost after iteration 100: 0.584508\n",
      "Cost after iteration 200: 0.466949\n",
      "Cost after iteration 300: 0.376007\n",
      "Cost after iteration 400: 0.331463\n",
      "Cost after iteration 500: 0.303273\n",
      "Cost after iteration 600: 0.279880\n",
      "Cost after iteration 700: 0.260042\n",
      "Cost after iteration 800: 0.242941\n",
      "Cost after iteration 900: 0.228004\n",
      "Cost after iteration 1000: 0.214820\n",
      "Cost after iteration 1100: 0.203078\n",
      "Cost after iteration 1200: 0.192544\n",
      "Cost after iteration 1300: 0.183033\n",
      "Cost after iteration 1400: 0.174399\n",
      "Cost after iteration 1500: 0.166521\n",
      "Cost after iteration 1600: 0.159305\n",
      "Cost after iteration 1700: 0.152667\n",
      "Cost after iteration 1800: 0.146542\n",
      "Cost after iteration 1900: 0.140872\n",
      "train accuracy: 99.04306220095694 %\n",
      "test accuracy: 70.0 %\n"
     ]
    }
   ],
   "source": [
    "logistic_regression_model = model(train_set_x, train_set_y, test_set_x, test_set_y, num_iterations=2000, learning_rate=0.005, print_cost=True)"
   ]
  },
  {
   "cell_type": "markdown",
   "id": "c54ae507-37d3-4685-9de4-639deb8b513a",
   "metadata": {},
   "source": [
    "\n",
    "**Comment**: \n",
    "\n",
    "\n",
    "\n",
    "Training accuracy is close to 100%. This is a good sanity check: your model is working and has high enough capacity to fit the training data. Test accuracy is 70%. It is actually not bad for this simple model, given the small dataset we used and that logistic regression is a linear classifier. But no worries, you'll build an even better classifier next week!\n",
    "\n",
    "Also, you see that the model is clearly overfitting the training data. Later in this specialization you will learn how to reduce overfitting, for example by using regularization. Using the code below (and changing the `index` variable) you can look at predictions on pictures of the test set."
   ]
  },
  {
   "cell_type": "code",
   "execution_count": null,
   "id": "75b8c96f-35a9-4e81-ba5a-019aabe08562",
   "metadata": {},
   "outputs": [],
   "source": []
  },
  {
   "cell_type": "code",
   "execution_count": 181,
   "id": "5e7ac44e-264b-4153-ac76-384bca66ca61",
   "metadata": {
    "tags": []
   },
   "outputs": [
    {
     "name": "stdout",
     "output_type": "stream",
     "text": [
      "y = 1, you predicted that it is a \"cat\" picture.\n"
     ]
    },
    {
     "data": {
      "image/png": "[encoded data removed]",
      "text/plain": [
       "<Figure size 640x480 with 1 Axes>"
      ]
     },
     "metadata": {},
     "output_type": "display_data"
    }
   ],
   "source": [
    "# Example of a picture that was wrongly classified.\n",
    "index = 1\n",
    "plt.imshow(test_set_x[:, index].reshape((num_px, num_px, 3)))\n",
    "print (\"y = \" + str(test_set_y[0,index]) + \", you predicted that it is a \\\"\" + classes[int(logistic_regression_model['Y_prediction_test'][0,index])].decode(\"utf-8\") +  \"\\\" picture.\")"
   ]
  },
  {
   "cell_type": "markdown",
   "id": "380c6bbe-f537-4452-af98-01aeec2aef9d",
   "metadata": {},
   "source": [
    "Let's also plot the cost function and the gradients."
   ]
  },
  {
   "cell_type": "code",
   "execution_count": 182,
   "id": "fc11f00c-f1ae-43b0-adef-b98f0002bf5e",
   "metadata": {
    "tags": []
   },
   "outputs": [
    {
     "data": {
      "image/png": "[encoded data removed]",
      "text/plain": [
       "<Figure size 640x480 with 1 Axes>"
      ]
     },
     "metadata": {},
     "output_type": "display_data"
    }
   ],
   "source": [
    "# Plot learning curve (with costs)\n",
    "costs = np.squeeze(logistic_regression_model['costs'])\n",
    "plt.plot(costs)\n",
    "plt.ylabel('cost')\n",
    "plt.xlabel('iterations (per hundreds)')\n",
    "plt.title(\"Learning rate =\" + str(logistic_regression_model[\"learning_rate\"]))\n",
    "plt.show()"
   ]
  },
  {
   "cell_type": "markdown",
   "id": "2d268a03-f2b1-41a6-b1dc-d9546086dc3c",
   "metadata": {},
   "source": [
    "**Interpretation**:\n",
    "You can see the cost decreasing. It shows that the parameters are being learned. However, you see that you could train the model even more on the training set. Try to increase the number of iterations in the cell above and rerun the cells. You might see that the training set accuracy goes up, but the test set accuracy goes down. This is called overfitting. \n",
    "\n",
    "\n",
    "<a name='6'></a>\n",
    "## 6 - Further analysis (optional/ungraded exercise) ##\n",
    "\n",
    "Congratulations on building your first image classification model. Let's analyze it further, and examine possible choices for the learning rate $\\alpha$. \n",
    "\n",
    "#### Choice of learning rate ####\n",
    "\n",
    "**Reminder**:\n",
    "In order for Gradient Descent to work you must choose the learning rate wisely. The learning rate $\\alpha$  determines how rapidly we update the parameters. If the learning rate is too large we may \"overshoot\" the optimal value. Similarly, if it is too small we will need too many iterations to converge to the best values. That's why it is crucial to use a well-tuned learning rate.\n",
    "\n",
    "Let's compare the learning curve of our model with several choices of learning rates. Run the cell below. This should take about 1 minute. Feel free also to try different values than the three we have initialized the `learning_rates` variable to contain, and see what happens. \n",
    "\n",
    "\n"
   ]
  },
  {
   "cell_type": "code",
   "execution_count": 183,
   "id": "cf92d918-bbf1-4d3c-bb21-702ab326ea09",
   "metadata": {
    "tags": []
   },
   "outputs": [
    {
     "name": "stdout",
     "output_type": "stream",
     "text": [
      "Training a model with learning rate: 0.01\n",
      "\n",
      "-------------------------------------------------------\n",
      "\n",
      "Training a model with learning rate: 0.001\n",
      "\n",
      "-------------------------------------------------------\n",
      "\n",
      "Training a model with learning rate: 0.0001\n",
      "\n",
      "-------------------------------------------------------\n",
      "\n"
     ]
    },
    {
     "data": {
      "image/png": "[encoded data removed]",
      "text/plain": [
       "<Figure size 640x480 with 1 Axes>"
      ]
     },
     "metadata": {},
     "output_type": "display_data"
    }
   ],
   "source": [
    "learning_rates = [0.01, 0.001, 0.0001]\n",
    "models = {}\n",
    "\n",
    "for lr in learning_rates:\n",
    "    print (\"Training a model with learning rate: \" + str(lr))\n",
    "    models[str(lr)] = model(train_set_x, train_set_y, test_set_x, test_set_y, num_iterations=1500, learning_rate=lr, print_cost=False)\n",
    "    print ('\\n' + \"-------------------------------------------------------\" + '\\n')\n",
    "\n",
    "for lr in learning_rates:\n",
    "    plt.plot(np.squeeze(models[str(lr)][\"costs\"]), label=str(models[str(lr)][\"learning_rate\"]))\n",
    "\n",
    "plt.ylabel('cost')\n",
    "plt.xlabel('iterations (hundreds)')\n",
    "\n",
    "legend = plt.legend(loc='upper center', shadow=True)\n",
    "frame = legend.get_frame()\n",
    "frame.set_facecolor('0.90')\n",
    "plt.show()"
   ]
  },
  {
   "cell_type": "markdown",
   "id": "67d25156-a70d-458c-a16b-37f3aaf789de",
   "metadata": {},
   "source": [
    "**Interpretation**: \n",
    "- Different learning rates give different costs and thus different predictions results.\n",
    "- If the learning rate is too large (0.01), the cost may oscillate up and down. It may even diverge (though in this example, using 0.01 still eventually ends up at a good value for the cost). \n",
    "- A lower cost doesn't mean a better model. You have to check if there is possibly overfitting. It happens when the training accuracy is a lot higher than the test accuracy.\n",
    "- In deep learning, we usually recommend that you: \n",
    "    - Choose the learning rate that better minimizes the cost function.\n",
    "    - If your model overfits, use other techniques to reduce overfitting. (We'll talk about this in later videos.) \n"
   ]
  },
  {
   "cell_type": "code",
   "execution_count": null,
   "id": "4ffcea0e-965b-485f-9c46-944acc64f974",
   "metadata": {},
   "outputs": [],
   "source": []
  }
 ],
 "metadata": {
  "kernelspec": {
   "display_name": "Python 3 (ipykernel)",
   "language": "python",
   "name": "python3"
  },
  "language_info": {
   "codemirror_mode": {
    "name": "ipython",
    "version": 3
   },
   "file_extension": ".py",
   "mimetype": "text/x-python",
   "name": "python",
   "nbconvert_exporter": "python",
   "pygments_lexer": "ipython3",
   "version": "3.11.4"
  }
 },
 "nbformat": 4,
 "nbformat_minor": 5
}
